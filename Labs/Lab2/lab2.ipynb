{
 "cells": [
  {
   "cell_type": "markdown",
   "metadata": {},
   "source": [
    "# Practical session 2 - Practise with classic libraries\n",
    "\n",
    "Students (pair):\n",
    "- [Awhansou Yémalin]([link](https://github.com/username1))\n",
    "- [Ouzanne Réda]([link](https://github.com/username2))"
   ]
  },
  {
   "cell_type": "markdown",
   "metadata": {},
   "source": [
    "```\n",
    "conda create --name=lab2 --file=requirement.txt\n",
    "conda activate lab2\n",
    "# do not forget to deactivate the environment if needed\n",
    "# you can remove the environment once you are done\n",
    "conda env remove --name=lab2\n",
    "```"
   ]
  },
  {
   "cell_type": "markdown",
   "metadata": {},
   "source": [
    "**Useful references for this lab**:\n",
    "\n",
    "[1] `numpy`: [lecture notes (1.4.1-1.4.2)](https://scipy-lectures.org/intro/numpy/index.html) and [documentation](https://numpy.org/doc/stable/)\n",
    "\n",
    "[2] `pandas`: [documentation](https://pandas.pydata.org/docs/getting_started/index.html), [quick tutorial](https://pandas.pydata.org/pandas-docs/version/0.15/10min.html)\n",
    "\n",
    "[3] `matplotlib`: [lecture notes (1.5)](https://scipy-lectures.org/intro/matplotlib/index.html) and [documentation](https://matplotlib.org/)\n",
    "\n",
    "[4] `h5py`: [quick start guide](http://docs.h5py.org/en/stable/quick.html#quick)"
   ]
  },
  {
   "cell_type": "markdown",
   "metadata": {},
   "source": [
    "## <a name=\"content\">Contents</a>\n",
    "- [Exercise 1: Computing basic statistics](#ex1)\n",
    "- [Exercise 2: Random variables and histograms](#ex2)\n",
    "- [Exercise 3: Discrete isotropic total variation](#ex3)\n",
    "---"
   ]
  },
  {
   "cell_type": "code",
   "execution_count": 18,
   "metadata": {},
   "outputs": [
    {
     "name": "stdout",
     "output_type": "stream",
     "text": [
      "The autoreload extension is already loaded. To reload it, use:\n",
      "  %reload_ext autoreload\n"
     ]
    }
   ],
   "source": [
    "%load_ext autoreload\n",
    "%autoreload 2"
   ]
  },
  {
   "cell_type": "markdown",
   "metadata": {},
   "source": [
    "---\n",
    "## <a name=\"ex1\">Exercise 1: Random variables and histograms</a>\n",
    "\n",
    "In this exercise, we are interested in generating samples from the Gamma distribution $\\mathcal{G}(\\alpha,\\beta)$, of probability density function (pdf)\n",
    "\n",
    "\\begin{equation}\n",
    "    p(x) = \\frac{\\beta^\\alpha}{\\Gamma(\\alpha)} x^{\\alpha-1} \\exp(-\\beta x) \\mathbb{1}_{\\mathbb{R}_+^*}(x),\n",
    "\\end{equation}\n",
    "\n",
    "and displaying their histogram. In the following, we consider $(\\alpha, \\beta) = (9, 2)$.\n",
    "\n",
    "1\\. Set the random seed to a fixed value for reproducibility, and biefly check your instruction works as intended.\n",
    "> Hint: you may take a look at the following pages: [random module](https://numpy.org/doc/stable/reference/random/index.html?highlight=random#module-numpy.random), [random generator](https://numpy.org/doc/stable/reference/random/generator.html)."
   ]
  },
  {
   "cell_type": "markdown",
   "metadata": {},
   "source": [
    "**Answer**:"
   ]
  },
  {
   "cell_type": "code",
   "execution_count": 110,
   "metadata": {},
   "outputs": [
    {
     "name": "stdout",
     "output_type": "stream",
     "text": [
      "[0.69646919 0.28613933 0.22685145 0.55131477 0.71946897]\n"
     ]
    }
   ],
   "source": [
    "import numpy as np\n",
    "np.random.seed(123)\n",
    "# On génère quelques nombres aléatoires pour vérifier (ce sont bien les mêmes lorsqu'on relance la cellule)\n",
    "print(np.random.rand(5))"
   ]
  },
  {
   "cell_type": "markdown",
   "metadata": {},
   "source": [
    "2\\. Generate $\\approx 10^5$ samples in a vector. Save the vector in a file, `samples.hdf5` or `samples.npy`.\n",
    "> Warning / hint: \n",
    "> - take a careful look at the [documentation](https://numpy.org/doc/stable/reference/random/generated/numpy.random.gamma.html?highlight=gamma#numpy.random.gamma) (multiple conventions exist for the definition of the pdf underlying the distribution...);\n",
    "> - to save data in a `npy` file, take a look at the example reported in the [Numpy documentation](https://numpy.org/doc/stable/reference/generated/numpy.save.html);\n",
    "> - to save data in a `.h5` file, take a quick look at the [documentation here](https://docs.h5py.org/en/stable/quick.html#quick)."
   ]
  },
  {
   "cell_type": "markdown",
   "metadata": {},
   "source": [
    "**Answer**:"
   ]
  },
  {
   "cell_type": "code",
   "execution_count": 111,
   "metadata": {},
   "outputs": [
    {
     "name": "stdout",
     "output_type": "stream",
     "text": [
      "Taille du vecteur : (100000,)\n",
      "Premier échantillon : 4.824962902800124\n"
     ]
    }
   ],
   "source": [
    "# Paramètres\n",
    "alpha = 9\n",
    "beta = 2\n",
    "theta = 1 / beta  # scale = 1 / rate\n",
    "\n",
    "# On génère 10^5 échantillons suivant la loi gamma\n",
    "samples = np.random.gamma(shape=alpha, scale=theta, size=10**5)\n",
    "\n",
    "# On sauvegarde les fichiers dans un fichier .npy\n",
    "np.save(\"samples.npy\", samples)\n",
    "\n",
    "print(\"Taille du vecteur :\", samples.shape)\n",
    "print(\"Premier échantillon :\", samples[0])\n"
   ]
  },
  {
   "cell_type": "markdown",
   "metadata": {},
   "source": [
    "3\\. Estimate an histogram of this distribution for a well chosen set of bins, and display it.\n",
    "> Warnings: \n",
    "> - make sure the [histogram](https://matplotlib.org/api/_as_gen/matplotlib.pyplot.hist.html?highlight=hist#matplotlib.pyplot.hist) corresponds to a probability density function (pdf);\n",
    "> - do not forget to include a proper title with names for the axes."
   ]
  },
  {
   "cell_type": "markdown",
   "metadata": {},
   "source": [
    "**Answer**:"
   ]
  },
  {
   "cell_type": "code",
   "execution_count": 112,
   "metadata": {},
   "outputs": [
    {
     "data": {
      "image/png": "[encoded data removed]",
      "text/plain": [
       "<Figure size 640x480 with 1 Axes>"
      ]
     },
     "metadata": {},
     "output_type": "display_data"
    }
   ],
   "source": [
    "import matplotlib.pyplot as plt\n",
    "\n",
    "# On crée l'histogramme normalisé (density=True pour avoir une densité de probabilité)\n",
    "plt.hist(samples, bins=50, density=True, alpha=0.7, color='steelblue', edgecolor='black')\n",
    "\n",
    "# Titres et labels\n",
    "plt.title(\"Histogramme de la loi Gamma (α=9, β=2)\")\n",
    "plt.xlabel(\"x\")\n",
    "plt.ylabel(\"Densité de probabilité\")\n",
    "\n",
    "plt.show()"
   ]
  },
  {
   "cell_type": "markdown",
   "metadata": {},
   "source": [
    "4\\. Overlay the probability density function on the histogram and compare these in a few words. Save the resulting picture in `.png` format.\n",
    "> Hint: \n",
    "> - take a look at the `scipy` [documentation](https://docs.scipy.org/doc/scipy/reference/stats.html) to avoid implementing the pdf from scratch;\n",
    "> - return the bins in which the histogram is computed, and evaluate the pdf on those points."
   ]
  },
  {
   "cell_type": "markdown",
   "metadata": {},
   "source": [
    "**Answer**:"
   ]
  },
  {
   "cell_type": "code",
   "execution_count": 114,
   "metadata": {},
   "outputs": [
    {
     "data": {
      "image/png": "[encoded data removed]",
      "text/plain": [
       "<Figure size 640x480 with 1 Axes>"
      ]
     },
     "metadata": {},
     "output_type": "display_data"
    }
   ],
   "source": [
    "from scipy.stats import gamma\n",
    "\n",
    "# Paramètres\n",
    "alpha = 9\n",
    "beta = 2\n",
    "theta = 1 / beta  # scale = 1 / rate\n",
    "\n",
    "# On retrace l'histogramme normalisé précédent\n",
    "count, bins, _ = plt.hist(samples, bins=50, density=True,\n",
    "                          alpha=0.6, color=\"steelblue\", edgecolor=\"black\")\n",
    "\n",
    "# Points pour la densité théorique\n",
    "x = np.linspace(min(bins), max(bins), 500)\n",
    "pdf = gamma.pdf(x, a=alpha, scale=theta)\n",
    "\n",
    "# Superposition de la densité théorique\n",
    "plt.plot(x, pdf, 'r-', lw=2, label=\"Densité de probabilité théorique\")\n",
    "\n",
    "# Titres et axes\n",
    "plt.title(\"Histogramme et densité de probabilité de la loi Gamma (α=9, β=2)\")\n",
    "plt.xlabel(\"x\")\n",
    "plt.ylabel(\"Densité de probabilité\")\n",
    "plt.legend()\n",
    "\n",
    "# Sauvegarde en PNG\n",
    "plt.savefig(\"histogramme_loi_gamma.png\", dpi=300)\n",
    "plt.show()\n"
   ]
  },
  {
   "cell_type": "markdown",
   "metadata": {},
   "source": [
    "---\n",
    "## <a name=\"ex2\">Exercise 2: Basic statistics with `pandas`</a>\n",
    "\n",
    "In this second exercise, we focus on computing basic statistics, and applying linear regression to a small data set. These data are gathered in the following table, which gives the infant mortality (`X`) and the gross national product per inhabitant (`Y`) of 12 european countries :\n",
    "\n",
    "| `X` | 190 | 128 | 180 | 212 | 56 | 192 | 68 | 98 | 110 | 197 | 181 | 233 |\n",
    "|-----|-----|-----|-----|----|-----|----|----|-----|-----|-----|-----|-----|\n",
    "| `Y` |  24 |  28 |  24 | 19 |  37 | 22 | 34 |  25 |  36 |  24 |  20 |  18 |\n",
    "\n",
    "1\\. For `X `and `Y`, compute the median, mean, variance and standard deviation. The data points have already been entered into a `.csv` file stored in `data/data.csv`.\n",
    "> Hint: \n",
    "> - you can directly use `pandas` to load the data into a `DataFrame` ([`pd.read_csv`](https://pandas.pydata.org/docs/reference/frame.html));\n",
    "> - take a look at the built-in operations available for `DataFrame` objects ([documentation](https://pandas.pydata.org/docs/reference/frame.html));\n",
    "> - to display a `DataFrame` `f`:\n",
    "> ```python \n",
    "> from IPython.display import display\n",
    "> display(df)\n",
    "> ```\n",
    "> - sort the `DataFrame` with respect to the value of `X` (see [here](https://pandas.pydata.org/docs/reference/api/pandas.DataFrame.sort_values.html#pandas.DataFrame.sort_values)) This will be useful for question 3."
   ]
  },
  {
   "cell_type": "markdown",
   "metadata": {},
   "source": [
    "**Answer**:"
   ]
  },
  {
   "cell_type": "code",
   "execution_count": 115,
   "metadata": {},
   "outputs": [],
   "source": [
    "import pandas as pd"
   ]
  },
  {
   "cell_type": "code",
   "execution_count": null,
   "metadata": {},
   "outputs": [
    {
     "name": "stdout",
     "output_type": "stream",
     "text": [
      "      X   Y\n",
      "0   190  24\n",
      "1   128  28\n",
      "2   180  24\n",
      "3   212  19\n",
      "4    56  37\n",
      "5   192  22\n",
      "6    68  34\n",
      "7    98  25\n",
      "8   110  36\n",
      "9   197  24\n",
      "10  181  20\n",
      "11  233  18\n"
     ]
    }
   ],
   "source": [
    "# On charge et on affiche le dataframe\n",
    "df=pd.read_csv(\"data\\data.csv\")\n",
    "print(df)"
   ]
  },
  {
   "cell_type": "code",
   "execution_count": 43,
   "metadata": {},
   "outputs": [
    {
     "name": "stdout",
     "output_type": "stream",
     "text": [
      "                  X          Y\n",
      "mean     153.750000  25.916667\n",
      "median   180.500000  24.000000\n",
      "var     3486.022727  42.446970\n",
      "std       59.042550   6.515134\n"
     ]
    }
   ],
   "source": [
    "# On calcule les statistiques sur le dataframe\n",
    "stats = df.agg([\"mean\", \"median\", \"var\", \"std\"])\n",
    "print(stats)"
   ]
  },
  {
   "cell_type": "code",
   "execution_count": 116,
   "metadata": {},
   "outputs": [
    {
     "name": "stdout",
     "output_type": "stream",
     "text": [
      "      X   Y\n",
      "4    56  37\n",
      "6    68  34\n",
      "7    98  25\n",
      "8   110  36\n",
      "1   128  28\n",
      "2   180  24\n",
      "10  181  20\n",
      "0   190  24\n",
      "5   192  22\n",
      "9   197  24\n",
      "3   212  19\n",
      "11  233  18\n"
     ]
    }
   ],
   "source": [
    "# On trie le dataset selon la valeur de la colonne X\n",
    "df_sorted = df.sort_values(by=\"X\")\n",
    "print(df_sorted)"
   ]
  },
  {
   "cell_type": "markdown",
   "metadata": {},
   "source": [
    "2\\. Give the equation of the regression line of `Y` as a function of `X`.\n",
    "> Hint: \n",
    "> - take a look at the functionalities available in `numpy` (e.g., `np.polyfit` and `np.polyval`);\n",
    "> - if needed, note that you can retrieve the data from the resulting `pandas` `DataFrame` with the `to_numpy()` method."
   ]
  },
  {
   "cell_type": "markdown",
   "metadata": {},
   "source": [
    "**Answer**:"
   ]
  },
  {
   "cell_type": "code",
   "execution_count": 117,
   "metadata": {},
   "outputs": [
    {
     "name": "stdout",
     "output_type": "stream",
     "text": [
      "Équation de la régression : Y = -0.0982 * X + 41.0095\n"
     ]
    }
   ],
   "source": [
    "# On extrait X et Y du DataFrame\n",
    "X = df[\"X\"].to_numpy()\n",
    "Y = df[\"Y\"].to_numpy()\n",
    "\n",
    "# On effectue un ajustement linéaire : Y = a*X + b\n",
    "a, b = np.polyfit(X, Y, 1)\n",
    "\n",
    "print(f\"Équation de la régression : Y = {a:.4f} * X + {b:.4f}\")"
   ]
  },
  {
   "cell_type": "markdown",
   "metadata": {},
   "source": [
    "3\\. Display the cloud of points and the regression line $Y = f(X)$ on the same figure. Save the figure in `.png` format."
   ]
  },
  {
   "cell_type": "markdown",
   "metadata": {},
   "source": [
    "**Answer**:"
   ]
  },
  {
   "cell_type": "code",
   "execution_count": null,
   "metadata": {},
   "outputs": [
    {
     "data": {
      "image/png": "[encoded data removed]",
      "text/plain": [
       "<Figure size 640x480 with 1 Axes>"
      ]
     },
     "metadata": {},
     "output_type": "display_data"
    }
   ],
   "source": [
    "# On trace les points expérimentaux du data frame\n",
    "plt.scatter(X, Y, color=\"blue\", label=\"Données\")\n",
    "\n",
    "# On trace la droite de régression\n",
    "Y_pred = a * X + b\n",
    "plt.plot(X, Y_pred, color=\"red\", linewidth=2, label=\"Régression linéaire\")\n",
    "\n",
    "# Titres et légendes\n",
    "plt.title(\"Régression linéaire : Y en fonction de X\")\n",
    "plt.xlabel(\"X (Mortalité infantile)\")\n",
    "plt.ylabel(\"Y (PNB par habitant)\") \n",
    "plt.legend()\n",
    "\n",
    "# Sauvegarde\n",
    "plt.savefig(\"regression.png\", dpi=300)\n",
    "plt.show()"
   ]
  },
  {
   "cell_type": "markdown",
   "metadata": {},
   "source": [
    "---\n",
    "## <a name=\"ex3\">Exercise 3: Discrete isotropic total variation</a>\n",
    "\n",
    "This exercise is devoted to the computation of the discrete isotropic total variation (TV) of an input matrix $\\mathbf{X} = [\\mathbf{x}_n]_{1 \\leq n \\leq N} \\in\\mathbb{C}^{M \\times N}$, which is particularly useful in Bayesian inference (e.g., for inverse problems) to promote piece-wise smooth solutions. The TV is defined as\n",
    "\n",
    "\\begin{equation*}\n",
    "    \\text{TV}(\\mathbf{X}) = \\Vert D(\\mathbf{X}) \\Vert_{1,2} = \\sum_{m=1}^M \\sum_{n=1}^N \\sqrt{[\\mathbf{XD}_h]^2_{m,n} + [\\mathbf{D}_v\\mathbf{X}]^2_{m,n}},\n",
    "\\end{equation*}\n",
    "\n",
    "where $[\\mathbf{Z}]_{m,n}$ denotes the elements in position $(m,n)$ of the matrix $\\mathbf{Z}$,\n",
    "\n",
    "\\begin{align*}\n",
    "    D(X) &= (\\mathbf{XD}_h, \\mathbf{D}_v\\mathbf{X}) \\in \\mathbb{C}^{M\\times N} \\times \\mathbb{C}^{M\\times N} \\\\\n",
    "    %\n",
    "    \\mathbf{XD}_h &= [\\mathbf{x}_2-\\mathbf{x}_1, \\dotsc, \\mathbf{x}_N-\\mathbf{x}_{N-1}, \\mathbf{0}_M] \\in \\mathbb{C}^{M\\times N} \\\\\n",
    "    %\n",
    "    \\mathbf{D}_v\\mathbf{X} &= [\\tilde{\\mathbf{x}}_2^T-\\tilde{\\mathbf{x}}^T_1, \\dotsc, \\tilde{\\mathbf{x}}^T_M-\\tilde{\\mathbf{x}}^T_{M-1}, \\mathbf{0}_N]^T \\in \\mathbb{C}^{M\\times N},\n",
    "\\end{align*}\n",
    "\n",
    "$\\mathbf{x}_n \\in \\mathbb{C}^{M}$ is the $n$-th column of $\\mathbf{X}$, and $\\tilde{\\mathbf{x}}_m \\in \\mathbb{C}^{1\\times N}$ is the $m$-th row of $\\mathbf{X}$. \n",
    "The linear operator $D: \\mathbb{C}^{M\\times N} \\rightarrow \\mathbb{C}^{M\\times N} \\times \\mathbb{C}^{M\\times N} $ is the discrete gradient operator. The adjoint of $D$, $D^*: \\mathbb{C}^{M\\times N} \\times \\mathbb{C}^{M\\times N} \\rightarrow \\mathbb{C}^{M\\times N}$, is given by\n",
    "\n",
    "\\begin{align*}\n",
    "    (\\forall \\mathbf{Y} = (\\mathbf{Y}_h,\\mathbf{Y}_v)), \\quad D^*(\\mathbf{Y}) &= \\mathbf{Y}_h\\mathbf{D}^*_h + \\mathbf{D}^*_v\\mathbf{Y}_v \\\\\n",
    "    %\n",
    "    \\mathbf{Y}_h\\mathbf{D}^*_h &= \\big[-\\mathbf{y}_{h,1},- [\\mathbf{y}_{h,n}-\\mathbf{y}_{h,n-1}]_{2 \\leq n \\leq N-1}, \\mathbf{y}_{h, N-1} \\big] \\\\\n",
    "    %\n",
    "    \\mathbf{D}^*_v\\mathbf{Y}_v &= \\big[-\\tilde{\\mathbf{y}}_{v,1}^T,- [\\tilde{\\mathbf{y}}_{v,m}^T-\\tilde{\\mathbf{y}}^T_{v,m-1}]_{2 \\leq m \\leq M-1}, \\tilde{\\mathbf{y}}^T_{v, M-1} \\big]^T\n",
    "\\end{align*}\n",
    "\n",
    "where $\\mathbf{y}_{h,n}$ is the $n$-th column of $\\mathbf{Y}_h$, and $\\tilde{\\mathbf{x}}_{v,m}$ is the $m$-th row of $\\mathbf{Y}_v$.\n",
    "\n",
    "1\\. Using `numpy`, implement a function `gradient2D` to compute the 2D discrete gradient operator $D$ applied to a matrix $\\mathbf{X}\\in\\mathbb{C}^{M \\times N}$ (no for loops!). Trigger an error message whenever the input array has more than 2 dimensions. If not clear from the implementation, add a few short comments to explain your code.\n",
    "\n",
    "> Hint: \n",
    "> - to trigger an error, you can for instance use an `assert` statement, or raise an [exception (e.g., `AssertionError`)](https://docs.python.org/3/library/exceptions.html);\n",
    "> - only a few operations are needed: computing vertical differences, horizontal differences, and possibly a concatenation of matrices into a single tensor (= n-dimensional array);\n",
    "> - possibly useful functions: `np.diff`, `np.c_`, `np.r_` (or `np.concatenate`). "
   ]
  },
  {
   "cell_type": "markdown",
   "metadata": {},
   "source": [
    "**Answer**:"
   ]
  },
  {
   "cell_type": "code",
   "execution_count": 123,
   "metadata": {},
   "outputs": [],
   "source": [
    "import numpy as np\n",
    "\n",
    "def gradient2D(X):\n",
    "    \n",
    "    \"\"\"\n",
    "    Calcule le gradient discret d'une matrice 2D.\n",
    "    Retourne (Dh, Dv) où:\n",
    "      - Dh est la matrice des différences horizontales\n",
    "      - Dv est la matrice des différences verticales\n",
    "    \"\"\"\n",
    "  \n",
    "    # On vérifie que X est bien 2D\n",
    "    assert X.ndim == 2, \"L'entrée doit être une matrice 2D\"\n",
    "\n",
    "    # Différences horizontales (colonnes) : x_{n+1} - x_n\n",
    "    Dh = np.diff(X, axis=1)\n",
    "    # On n'oublie pas d'ajouter la colonne de 0 à la fin\n",
    "    Dh = np.concatenate([Dh, np.zeros((X.shape[0], 1))], axis=1)\n",
    "\n",
    "    # Différences verticales (lignes) : x_{m+1} - x_m\n",
    "    Dv = np.diff(X, axis=0)\n",
    "    # On n'oublie pas d'ajouter la ligne de 0 à la fin\n",
    "    Dv = np.concatenate([Dv, np.zeros((1, X.shape[1]))], axis=0)\n",
    "\n",
    "    return Dh, Dv\n"
   ]
  },
  {
   "cell_type": "markdown",
   "metadata": {},
   "source": [
    "2\\. Implement a unit-test to validate the behaviour of the `gradient2D` function. For instance, you can check the format of the output, and test the result when the function is evaluated on a constant matrix (for both a square and a non-square input matrix). Run the unit-test from the present Jupyter notebook."
   ]
  },
  {
   "cell_type": "markdown",
   "metadata": {},
   "source": [
    "**Answer**:"
   ]
  },
  {
   "cell_type": "code",
   "execution_count": 126,
   "metadata": {},
   "outputs": [],
   "source": [
    "def test_gradient2D(X):\n",
    "    \"\"\"\n",
    "    Test simple de la fonction gradient2D :\n",
    "    - vérifie que les dimensions de X, Dh et Dv sont les mêmes\n",
    "    - affiche Dh et Dv\n",
    "    - si X est constante, vérifie que le gradient est nul\n",
    "    \"\"\"\n",
    "    Dh, Dv = gradient2D(X)\n",
    "    \n",
    "    # Vérification des tailles\n",
    "    print(\"Test sur matrice de taille\", X.shape)\n",
    "    print(\"Dimensions Dh:\", Dh.shape, \"| Dimensions Dv:\", Dv.shape)\n",
    "    if Dh.shape != X.shape and Dv.shape != X.shape:\n",
    "        print(\"Erreur : Dh et DV n'a pas la même forme que X.\")\n",
    "    elif Dh.shape != X.shape:\n",
    "        print(\"Erreur : Dh n'a pas la même forme que X.\")\n",
    "    elif Dv.shape != X.shape:\n",
    "        print(\" Erreur : Dv n'a pas la même forme que X.\")\n",
    "    else:\n",
    "        print(\"Les dimensions de Dh et Dv correspondent bien à celles de X.\")\n",
    "    \n",
    "    print(\"Dh =\\n\", Dh)\n",
    "    print(\"Dv =\\n\", Dv)\n",
    "\n",
    "    if np.allclose(X, X[0,0]):\n",
    "        if np.allclose(Dh, 0) and np.allclose(Dv, 0):\n",
    "            print(\"Le gradient est nul car la matrice est constante.\")\n",
    "        else:\n",
    "            print(\"Erreur : le gradient est non nul alors que la matrice constante.\")\n",
    "    else:\n",
    "        print(\"La matrice n'est pas constante : pas de test de nullité du gradient.\")\n",
    "        \n",
    "    print(\"-\"*40)\n",
    "    return\n",
    "    \n"
   ]
  },
  {
   "cell_type": "code",
   "execution_count": 127,
   "metadata": {},
   "outputs": [
    {
     "name": "stdout",
     "output_type": "stream",
     "text": [
      "Test sur matrice de taille (3, 3)\n",
      "Dimensions Dh: (3, 3) | Dimensions Dv: (3, 3)\n",
      "Les dimensions de Dh et Dv correspondent bien à celles de X.\n",
      "Dh =\n",
      " [[0. 0. 0.]\n",
      " [0. 0. 0.]\n",
      " [0. 0. 0.]]\n",
      "Dv =\n",
      " [[0. 0. 0.]\n",
      " [0. 0. 0.]\n",
      " [0. 0. 0.]]\n",
      "Le gradient est nul car la matrice est constante.\n",
      "----------------------------------------\n",
      "Test sur matrice de taille (2, 4)\n",
      "Dimensions Dh: (2, 4) | Dimensions Dv: (2, 4)\n",
      "Les dimensions de Dh et Dv correspondent bien à celles de X.\n",
      "Dh =\n",
      " [[0. 0. 0. 0.]\n",
      " [0. 0. 0. 0.]]\n",
      "Dv =\n",
      " [[0. 0. 0. 0.]\n",
      " [0. 0. 0. 0.]]\n",
      "Le gradient est nul car la matrice est constante.\n",
      "----------------------------------------\n",
      "Test sur matrice de taille (2, 3)\n",
      "Dimensions Dh: (2, 3) | Dimensions Dv: (2, 3)\n",
      "Les dimensions de Dh et Dv correspondent bien à celles de X.\n",
      "Dh =\n",
      " [[1. 2. 0.]\n",
      " [2. 2. 0.]]\n",
      "Dv =\n",
      " [[2. 3. 3.]\n",
      " [0. 0. 0.]]\n",
      "La matrice n'est pas constante : pas de test de nullité du gradient.\n",
      "----------------------------------------\n"
     ]
    }
   ],
   "source": [
    "# On test différents cas\n",
    "# Cas 1 : matrice constante 3x3\n",
    "test_gradient2D(np.ones((3,3)))\n",
    "\n",
    "# Cas 2 : matrice constante 2x4\n",
    "test_gradient2D(np.full((2,4), 7))\n",
    "\n",
    "# Cas 3 : matrice non constante\n",
    "test_gradient2D(np.array([[1, 2, 4],\n",
    "                          [3, 5, 7]]))"
   ]
  },
  {
   "cell_type": "markdown",
   "metadata": {},
   "source": [
    "3\\. Document the function `gradient2D` with an appropriate docstring (see Lab 1)."
   ]
  },
  {
   "cell_type": "markdown",
   "metadata": {},
   "source": [
    "**Answer**:"
   ]
  },
  {
   "cell_type": "code",
   "execution_count": 141,
   "metadata": {},
   "outputs": [],
   "source": [
    "def gradient2D(X):\n",
    "    # On fait la documentation complète de la fonction en anglais\n",
    "    \"\"\"\n",
    "    Compute the discrete 2D gradient of a matrix X.\n",
    "\n",
    "    This function calculates the horizontal and vertical finite differences\n",
    "    of the input 2D array. The result has the same shape as the input, with\n",
    "    zeros padded on the last column (for horizontal differences) and the\n",
    "    last row (for vertical differences) to preserve dimensions.\n",
    "\n",
    "    Parameters\n",
    "    ----------\n",
    "    X : ndarray of shape (M, N)\n",
    "        Input 2D array (real or complex values).\n",
    "        Must be two-dimensional.\n",
    "\n",
    "    Returns\n",
    "    -------\n",
    "    Dh : ndarray of shape (M, N)\n",
    "        Horizontal differences: difference between consecutive columns.\n",
    "    Dv : ndarray of shape (M, N)\n",
    "        Vertical differences: difference between consecutive rows.\n",
    "\n",
    "    Raises\n",
    "    ------\n",
    "    AssertionError\n",
    "        If the input array has more than 2 dimensions.\n",
    "\n",
    "    Examples\n",
    "    --------\n",
    "    >>> import numpy as np\n",
    "    >>> X = np.array([[1, 2, 4],\n",
    "    ...               [3, 5, 7]])\n",
    "    >>> Dh, Dv = gradient2D(X)\n",
    "    >>> Dh\n",
    "    array([[ 1.,  2.,  0.],\n",
    "           [ 2.,  2.,  0.]])\n",
    "    >>> Dv\n",
    "    array([[ 2.,  3.,  3.],\n",
    "           [ 0.,  0.,  0.]])\n",
    "    \"\"\"\n",
    "    assert X.ndim == 2, \"Input must be a 2D array\"\n",
    "\n",
    "    Dh = np.diff(X, axis=1)\n",
    "    Dh = np.concatenate([Dh, np.zeros((X.shape[0], 1))], axis=1)\n",
    "\n",
    "    Dv = np.diff(X, axis=0)\n",
    "    Dv = np.concatenate([Dv, np.zeros((1, X.shape[1]))], axis=0)\n",
    "\n",
    "    return Dh, Dv\n"
   ]
  },
  {
   "cell_type": "code",
   "execution_count": 142,
   "metadata": {},
   "outputs": [
    {
     "name": "stdout",
     "output_type": "stream",
     "text": [
      "\u001b[1;31mSignature:\u001b[0m \u001b[0mgradient2D\u001b[0m\u001b[1;33m(\u001b[0m\u001b[0mX\u001b[0m\u001b[1;33m)\u001b[0m\u001b[1;33m\u001b[0m\u001b[1;33m\u001b[0m\u001b[0m\n",
      "\u001b[1;31mDocstring:\u001b[0m\n",
      "Compute the discrete 2D gradient of a matrix X.\n",
      "\n",
      "This function calculates the horizontal and vertical finite differences\n",
      "of the input 2D array. The result has the same shape as the input, with\n",
      "zeros padded on the last column (for horizontal differences) and the\n",
      "last row (for vertical differences) to preserve dimensions.\n",
      "\n",
      "Parameters\n",
      "----------\n",
      "X : ndarray of shape (M, N)\n",
      "    Input 2D array (real or complex values).\n",
      "    Must be two-dimensional.\n",
      "\n",
      "Returns\n",
      "-------\n",
      "Dh : ndarray of shape (M, N)\n",
      "    Horizontal differences: difference between consecutive columns.\n",
      "Dv : ndarray of shape (M, N)\n",
      "    Vertical differences: difference between consecutive rows.\n",
      "\n",
      "Raises\n",
      "------\n",
      "AssertionError\n",
      "    If the input array has more than 2 dimensions.\n",
      "\n",
      "Examples\n",
      "--------\n",
      ">>> import numpy as np\n",
      ">>> X = np.array([[1, 2, 4],\n",
      "...               [3, 5, 7]])\n",
      ">>> Dh, Dv = gradient2D(X)\n",
      ">>> Dh\n",
      "array([[ 1.,  2.,  0.],\n",
      "       [ 2.,  2.,  0.]])\n",
      ">>> Dv\n",
      "array([[ 2.,  3.,  3.],\n",
      "       [ 0.,  0.,  0.]])\n",
      "\u001b[1;31mFile:\u001b[0m      c:\\users\\yemal\\appdata\\local\\temp\\ipykernel_7736\\1174949737.py\n",
      "\u001b[1;31mType:\u001b[0m      function"
     ]
    }
   ],
   "source": [
    "# On vérifie la documentation\n",
    "?gradient2D"
   ]
  },
  {
   "cell_type": "markdown",
   "metadata": {},
   "source": [
    "4\\. Using 1., define a function `tv` to compute $\\text{TV}(\\mathbf{X})$, $\\mathbf{X}\\in\\mathbb{C}^{M \\times N}$. Write a unit-test and document your function."
   ]
  },
  {
   "cell_type": "markdown",
   "metadata": {},
   "source": [
    "**Answer**:"
   ]
  },
  {
   "cell_type": "code",
   "execution_count": 143,
   "metadata": {},
   "outputs": [],
   "source": [
    "def tv(X):\n",
    "    \"\"\"\n",
    "    Compute the discrete isotropic total variation (TV) of a 2D array.\n",
    "\n",
    "    The isotropic TV is defined as:\n",
    "        TV(X) = sum_{m,n} sqrt( |Dh[m,n]|^2 + |Dv[m,n]|^2 )\n",
    "    where Dh and Dv are the horizontal and vertical discrete gradients.\n",
    "\n",
    "    Parameters\n",
    "    ----------\n",
    "    X : ndarray of shape (M, N)\n",
    "        Input 2D array (real or complex values).\n",
    "        Must be two-dimensional.\n",
    "\n",
    "    Returns\n",
    "    -------\n",
    "    tv_value : float\n",
    "        The total variation of X.\n",
    "\n",
    "    Raises\n",
    "    ------\n",
    "    AssertionError\n",
    "        If the input is not a 2D array.\n",
    "\n",
    "    Examples\n",
    "    --------\n",
    "    >>> X = np.array([[1, 2, 4],\n",
    "    ...               [3, 5, 7]])\n",
    "    >>> tv(X)\n",
    "    12.84161925296378\n",
    "    \"\"\"\n",
    "    assert X.ndim == 2, \"Input must be a 2D array\"\n",
    "\n",
    "    Dh, Dv = gradient2D(X)\n",
    "    tv_value = np.sum(np.sqrt(np.abs(Dh)**2 + np.abs(Dv)**2))\n",
    "\n",
    "    return tv_value"
   ]
  },
  {
   "cell_type": "code",
   "execution_count": 132,
   "metadata": {},
   "outputs": [
    {
     "data": {
      "text/plain": [
       "12.84161925296378"
      ]
     },
     "execution_count": 132,
     "metadata": {},
     "output_type": "execute_result"
    }
   ],
   "source": [
    "# Matrice de la documentation\n",
    "X = np.array([[1, 2, 4], \n",
    "              [3, 5, 7]])\n",
    "tv(X)"
   ]
  },
  {
   "cell_type": "code",
   "execution_count": 133,
   "metadata": {},
   "outputs": [
    {
     "name": "stdout",
     "output_type": "stream",
     "text": [
      "TV(X1) = 0.0\n",
      "TV(X2) = 5.23606797749979\n"
     ]
    }
   ],
   "source": [
    "# Matrice constante -> TV doit être 0\n",
    "X1 = np.ones((3,3))\n",
    "print(\"TV(X1) =\", tv(X1))  # attendu : 0\n",
    "\n",
    "# Matrice simple\n",
    "X2 = np.array([[1, 2],\n",
    "               [3, 4]])\n",
    "print(\"TV(X2) =\", tv(X2))"
   ]
  },
  {
   "cell_type": "markdown",
   "metadata": {},
   "source": [
    "5\\. Implement a function `gradient2D_adjoint` to compute $D^*(\\mathbf{Y})$, the adjoint of the 2D discrete gradient operator $D$ applied to $\\mathbf{Y}\\in\\mathbb{C}^{M \\times N}\\times \\mathbb{C}^{M \\times N}$. Add a few short comments to explain your code whenever appropriate."
   ]
  },
  {
   "cell_type": "markdown",
   "metadata": {},
   "source": [
    "**Answer**:"
   ]
  },
  {
   "cell_type": "code",
   "execution_count": 149,
   "metadata": {},
   "outputs": [],
   "source": [
    "def gradient2D_adjoint(Yh, Yv):\n",
    "    \"\"\"\n",
    "    Compute the adjoint of the 2D discrete gradient operator D* applied to (Yh, Yv).\n",
    "\n",
    "    Parameters\n",
    "    ----------\n",
    "    Yh : ndarray of shape (M, N)\n",
    "        Horizontal component of Y.\n",
    "    Yv : ndarray of shape (M, N)\n",
    "        Vertical component of Y.\n",
    "\n",
    "    Returns\n",
    "    -------\n",
    "    Z : ndarray of shape (M, N)\n",
    "        Result of D*(Y) = Yh * Dh* + Yv * Dv*\n",
    "\n",
    "    Notes\n",
    "    -----\n",
    "    - Dh* applies backward differences along the horizontal direction.\n",
    "    - Dv* applies backward differences along the vertical direction.\n",
    "    - Boundaries are handled by adding the appropriate last column/row.\n",
    "\n",
    "    Example\n",
    "    -------\n",
    "    >>> Yh = np.array([[1, 2, 0],\n",
    "    ...                [3, 4, 0]])\n",
    "    >>> Yv = np.array([[5, 6, 7],\n",
    "    ...                [0, 0, 0]])\n",
    "    >>> gradient2D_adjoint(Yh, Yv)\n",
    "    array([[-6., -7., -5.],\n",
    "       [ 2.,  5., 11.]])\n",
    "    \"\"\"\n",
    "    M, N = Yh.shape\n",
    "\n",
    "    # --- Adjoint horizontal Dh* ---\n",
    "    # Backward differences parmi les colonnes\n",
    "    Dh_adj = np.zeros((M, N))\n",
    "    Dh_adj[:, 0] = -Yh[:, 0]         # first column\n",
    "    Dh_adj[:, 1:] = Yh[:, :-1] - Yh[:, 1:]\n",
    "\n",
    "    # --- Adjoint vertical Dv* ---\n",
    "    # Backward differences parmi les lignes\n",
    "    Dv_adj = np.zeros((M, N))\n",
    "    Dv_adj[0, :] = -Yv[0, :]         # first row\n",
    "    Dv_adj[1:, :] = Yv[:-1, :] - Yv[1:, :]\n",
    "\n",
    "    # Combiner les contributions\n",
    "    return Dh_adj + Dv_adj\n"
   ]
  },
  {
   "cell_type": "code",
   "execution_count": 150,
   "metadata": {},
   "outputs": [
    {
     "data": {
      "text/plain": [
       "array([[-6., -7., -5.],\n",
       "       [ 2.,  5., 11.]])"
      ]
     },
     "execution_count": 150,
     "metadata": {},
     "output_type": "execute_result"
    }
   ],
   "source": [
    "# Exemple pour la documentation\n",
    "Yh = np.array([[1, 2, 0],[3, 4, 0]])\n",
    "Yv = np.array([[5, 6, 7],[0, 0, 0]])\n",
    "gradient2D_adjoint(Yh, Yv)"
   ]
  },
  {
   "cell_type": "markdown",
   "metadata": {},
   "source": [
    "6\\. Implement a unit-test to validate `gradient2D_adjoint`, e.g., by checking the size of the output from the function and verifying that `gradient2D_adjoint` is adjoint to `gradient2D`, i.e., for any $\\mathbf{X}\\in\\mathbb{C}^{M \\times N}$ and $\\mathbf{Y}\\in\\mathbb{C}^{M \\times N}\\times \\mathbb{C}^{M \\times N}$:\n",
    "\n",
    "\\begin{equation}\n",
    "    \\forall \\mathbf{X} \\in \\mathbb{C}^{M \\times N}, \\mathbf{Y} = (\\mathbf{Y}_h, \\mathbf{Y}_v) \\in \\mathbb{C}^{M \\times N} \\times \\mathbb{C}^{M \\times N}, \\;\n",
    "    %\n",
    "    \\langle D(\\mathbf{X}), \\mathbf{Y} \\rangle_{\\mathbb{C}^{M \\times N} \\times \\mathbb{C}^{M \\times N}} = \\langle \\mathbf{X}, D^*(\\mathbf{Y}) \\rangle_{\\mathbb{C}^{M \\times N}}, \n",
    "\\end{equation}\n",
    "\n",
    "where \n",
    "\n",
    "\\begin{align}\n",
    "    &\\forall \\mathbf{U}, \\mathbf{V} \\in \\mathbb{C}^{M \\times N}, \\; \\langle \\mathbf{U}, \\mathbf{V} \\rangle_{\\mathbb{C}^{M \\times N}} = \\text{Tr}(\\mathbf{U}^T \\mathbf{V}) = \\sum_{m=1}^M \\sum_{n=1}^N u_{m,n}^* v_{m,n}, \\\\\n",
    "    &\\forall \\mathbf{U} = (\\mathbf{U}_h, \\mathbf{U}_v), \\mathbf{V} = (\\mathbf{V}_h, \\mathbf{V}_v) \\in \\mathbb{C}^{M \\times N} \\times \\mathbb{C}^{M \\times N}, \\; \\langle \\mathbf{U}, \\mathbf{V} \\rangle_{\\mathbb{C}^{M \\times N} \\times \\mathbb{C}^{M \\times N}} = \\langle \\mathbf{U}_h, \\mathbf{V}_h \\rangle_{\\mathbb{C}^{M \\times N}} + \\langle \\mathbf{U}_v, \\mathbf{V}_v \\rangle_{\\mathbb{C}^{M \\times N}}.\n",
    "\\end{align}\n",
    "\n",
    "> Hint: to verify `gradient2D_adjoint` is the adjoint of `gradient2D`, evaluate the scalar products above for randomly drawn matrices. Set the random generator to a known state for reproducibility (see [Exercise 1](#ex1)).\n",
    "\n",
    "> `np.conj` is useful."
   ]
  },
  {
   "cell_type": "markdown",
   "metadata": {},
   "source": [
    "**Answer**:"
   ]
  },
  {
   "cell_type": "code",
   "execution_count": 144,
   "metadata": {},
   "outputs": [],
   "source": [
    "def test_adjoint_property():\n",
    "    \"\"\"\n",
    "    Vérifie que gradient2D_adjoint est bien l'adjoint de gradient2D.\n",
    "    Test basé sur la relation :\n",
    "        <D(X), Y> = <X, D*(Y)>\n",
    "    avec un produit scalaire de Frobenius.\n",
    "    \"\"\"\n",
    "\n",
    "    np.random.seed(123)\n",
    "\n",
    "    # Matrice X aléatoire\n",
    "    X = np.random.randn(4, 5) + 1j * np.random.randn(4, 5)\n",
    "\n",
    "    # Matrices Yh et Yv aléatoires (même taille que X)\n",
    "    Yh = np.random.randn(4, 5) + 1j * np.random.randn(4, 5)\n",
    "    Yv = np.random.randn(4, 5) + 1j * np.random.randn(4, 5)\n",
    "\n",
    "    # Calcul des deux côtés\n",
    "    Dh, Dv = gradient2D(X)\n",
    "    lhs = np.vdot(Dh, Yh) + np.vdot(Dv, Yv)      # <D(X), Y>\n",
    "    rhs = np.vdot(X, gradient2D_adjoint(Yh, Yv)) # <X, D*(Y)>\n",
    "\n",
    "    print(\"⟨D(X), Y⟩ =\", lhs)\n",
    "    print(\"⟨X, D*(Y)⟩ =\", rhs)\n",
    "    print(\"Différence absolue =\", np.abs(lhs - rhs))\n",
    "\n",
    "    # Vérification (tolérance numérique)\n",
    "    assert np.allclose(lhs, rhs), \"Propriété d'adjoint non respectée\"\n",
    "\n",
    "    print(\"Test réussi : gradient2D_adjoint est bien l'adjoint de gradient2D.\")\n"
   ]
  },
  {
   "cell_type": "code",
   "execution_count": 136,
   "metadata": {},
   "outputs": [
    {
     "name": "stdout",
     "output_type": "stream",
     "text": [
      "⟨D(X), Y⟩ = 1.0\n",
      "⟨X, D*(Y)⟩ = 1.0\n",
      "Différence = 0.0\n"
     ]
    }
   ],
   "source": [
    "# Petit test utilitaire\n",
    "\n",
    "X = np.array([[1., 2.],\n",
    "              [3., 4.]])\n",
    "\n",
    "Yh = np.array([[1., 0.],\n",
    "               [0., 0.]])  # juste une composante horizontale\n",
    "Yv = np.zeros_like(X)       # aucune composante verticale\n",
    "\n",
    "# Calcul des deux côtés\n",
    "Dh, Dv = gradient2D(X)\n",
    "lhs = np.vdot(Dh, Yh) + np.vdot(Dv, Yv)      # <D(X), Y>\n",
    "rhs = np.vdot(X, gradient2D_adjoint(Yh, Yv)) # <X, D*(Y)>\n",
    "\n",
    "print(\"⟨D(X), Y⟩ =\", lhs)\n",
    "print(\"⟨X, D*(Y)⟩ =\", rhs)\n",
    "print(\"Différence =\", np.abs(lhs - rhs))"
   ]
  },
  {
   "cell_type": "code",
   "execution_count": 137,
   "metadata": {},
   "outputs": [
    {
     "name": "stdout",
     "output_type": "stream",
     "text": [
      "⟨D(X), Y⟩ = 2.0\n",
      "⟨X, D*(Y)⟩ = 2.0\n",
      "Différence = 0.0\n"
     ]
    }
   ],
   "source": [
    "X = np.array([[1., 2.],\n",
    "              [3., 4.]])\n",
    "\n",
    "Yh = np.zeros_like(X)\n",
    "Yv = np.array([[0., 1.],\n",
    "               [0., 0.]])  # juste une composante verticale\n",
    "\n",
    "Dh, Dv = gradient2D(X)\n",
    "lhs = np.vdot(Dh, Yh) + np.vdot(Dv, Yv)\n",
    "rhs = np.vdot(X, gradient2D_adjoint(Yh, Yv))\n",
    "\n",
    "print(\"⟨D(X), Y⟩ =\", lhs)\n",
    "print(\"⟨X, D*(Y)⟩ =\", rhs)\n",
    "print(\"Différence =\", np.abs(lhs - rhs))"
   ]
  },
  {
   "cell_type": "markdown",
   "metadata": {},
   "source": [
    "[Bonus, **optional**]. Generalize the `gradient2D` to any number of dimensions ($\\mathbf{X} \\in \\mathbb{C}^{N_1 \\times N_2 \\times \\dotsc \\times N_p}$), i.e., by returning tensors obtained by computing differences along each of its dimensions.\n",
    "> Hint: \n",
    "> - you may use a loops here, and/or list comprehension. Using slice objects (see [np.s_](https://numpy.org/doc/stable/reference/generated/numpy.s_.html?highlight=s_#numpy.s_) and [this page](https://stackoverflow.com/questions/24432209/python-index-an-array-using-the-colon-operator-in-an-arbitrary-dimension)) can be an interesting option.\n",
    ">\n",
    "> - the definition of the scalar product above can be extended to the case of tensors as follows:\n",
    "\\begin{equation}\n",
    "    \\mathbf{U}, \\mathbf{V} \\in \\mathbb{C}^{N_1 \\times N_2 \\times \\dotsc \\times N_p}, \\; \\langle \\mathbf{U}, \\mathbf{V} \\rangle_{\\mathbb{C}^{N_1 \\times N_2 \\times \\dotsc \\times N_p}} =  \\sum_{n_1 = 1}^{N_1}  \\sum_{n_2 = 1}^{N_2} \\dotsc \\sum_{n_p = 1}^{N_p} u_{n_1, n_2, \\dotsc, n_p}^* v_{n_1, n_2, \\dotsc, n_p}   \n",
    "\\end{equation}"
   ]
  },
  {
   "cell_type": "markdown",
   "metadata": {},
   "source": [
    "**Answer**:"
   ]
  },
  {
   "cell_type": "code",
   "execution_count": 138,
   "metadata": {},
   "outputs": [],
   "source": [
    "import numpy as np\n",
    "\n",
    "def gradientND(X):\n",
    "    \"\"\"\n",
    "    Generalized discrete gradient operator for an N-dimensional array.\n",
    "\n",
    "    Computes forward finite differences along each axis, with zero-padding\n",
    "    at the boundary to preserve the same shape.\n",
    "\n",
    "    Parameters\n",
    "    ----------\n",
    "    X : ndarray of shape (N1, N2, ..., Np)\n",
    "        Input array of arbitrary dimension.\n",
    "\n",
    "    Returns\n",
    "    -------\n",
    "    grads : list of ndarrays\n",
    "        List where grads[k] contains the discrete gradient along axis k,\n",
    "        each with the same shape as X.\n",
    "\n",
    "    Examples\n",
    "    --------\n",
    "    >>> X = np.array([[1, 2, 4],\n",
    "    ...               [3, 5, 7]])\n",
    "    >>> grads = gradientND(X)\n",
    "    >>> len(grads)\n",
    "    2\n",
    "    >>> grads[0].shape, grads[1].shape\n",
    "    ((2, 3), (2, 3))\n",
    "    \"\"\"\n",
    "    grads = []\n",
    "    for axis in range(X.ndim):\n",
    "        # differences le long de l’axe\n",
    "        diff = np.diff(X, axis=axis)\n",
    "        # padding pour conserver la même taille\n",
    "        pad_shape = list(X.shape)\n",
    "        pad_shape[axis] = 1\n",
    "        padding = np.zeros(pad_shape, dtype=X.dtype)\n",
    "        grad_axis = np.concatenate([diff, padding], axis=axis)\n",
    "        grads.append(grad_axis)\n",
    "    return grads\n"
   ]
  },
  {
   "cell_type": "code",
   "execution_count": 151,
   "metadata": {},
   "outputs": [
    {
     "name": "stdout",
     "output_type": "stream",
     "text": [
      "Gradient axe 0 (vertical):\n",
      " [[2 3 3]\n",
      " [0 0 0]]\n",
      "Gradient axe 1 (horizontal):\n",
      " [[1 2 0]\n",
      " [2 2 0]]\n"
     ]
    }
   ],
   "source": [
    "X = np.array([[1, 2, 4],\n",
    "              [3, 5, 7]])\n",
    "\n",
    "grads = gradientND(X)\n",
    "\n",
    "print(\"Gradient axe 0 (vertical):\\n\", grads[0])\n",
    "print(\"Gradient axe 1 (horizontal):\\n\", grads[1])"
   ]
  },
  {
   "cell_type": "code",
   "execution_count": 140,
   "metadata": {},
   "outputs": [
    {
     "name": "stdout",
     "output_type": "stream",
     "text": [
      "Nombre de gradients = 3\n"
     ]
    }
   ],
   "source": [
    "X = np.random.rand(3,3,3)\n",
    "grads = gradientND(X)\n",
    "print(\"Nombre de gradients =\", len(grads))  # ici 3, un par axe"
   ]
  },
  {
   "cell_type": "markdown",
   "metadata": {},
   "source": [
    "## Reference\n",
    "\n",
    "```bibtex\n",
    "@article{condat:hal-01309685,\n",
    "  TITLE = {{Discrete Total Variation: New Definition and Minimization}},\n",
    "  AUTHOR = {Condat, Laurent},\n",
    "  URL = {https://hal.archives-ouvertes.fr/hal-01309685},\n",
    "  JOURNAL = {{SIAM Journal on Imaging Sciences}},\n",
    "  PUBLISHER = {{Society for Industrial and Applied Mathematics}},\n",
    "  VOLUME = {10},\n",
    "  NUMBER = {3},\n",
    "  PAGES = {1258--1290},\n",
    "  YEAR = {2017},\n",
    "  MONTH = Aug,\n",
    "  DOI = {10.1137/16M1075247},\n",
    "  KEYWORDS = { variational image processing ; total variation ;  finite-difference schemes ;  coarea formula},\n",
    "  PDF = {https://hal.archives-ouvertes.fr/hal-01309685v3/file/Condat-newTV.pdf},\n",
    "  HAL_ID = {hal-01309685},\n",
    "  HAL_VERSION = {v3},\n",
    "}\n",
    "```\n"
   ]
  }
 ],
 "metadata": {
  "kernelspec": {
   "display_name": "lab2",
   "language": "python",
   "name": "python3"
  },
  "language_info": {
   "codemirror_mode": {
    "name": "ipython",
    "version": 3
   },
   "file_extension": ".py",
   "mimetype": "text/x-python",
   "name": "python",
   "nbconvert_exporter": "python",
   "pygments_lexer": "ipython3",
   "version": "3.8.20"
  }
 },
 "nbformat": 4,
 "nbformat_minor": 4
}
