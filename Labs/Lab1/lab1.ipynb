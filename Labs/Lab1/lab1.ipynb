{
  "cells": [
    {
      "cell_type": "markdown",
      "metadata": {
        "id": "WdxWz8suzmRb"
      },
      "source": [
        "# Practical session 1 - Some Python basics\n",
        "\n",
        "Students (pair):\n",
        "- [Student 1]([link](https://github.com/username1))\n",
        "- [Student 2]([link](https://github.com/username2))"
      ]
    },
    {
      "cell_type": "markdown",
      "metadata": {
        "id": "faCZ9dj3zmRs"
      },
      "source": [
        "```\n",
        "conda create --name=lab1 --file=requirement.txt\n",
        "conda activate lab1\n",
        "# do not forget to deactivate the environment if needed\n",
        "# you can remove the environment once you are done\n",
        "conda env remove --name=lab1\n",
        "```"
      ]
    },
    {
      "cell_type": "code",
      "execution_count": null,
      "metadata": {
        "id": "4mHMKwNNzmR6"
      },
      "outputs": [],
      "source": [
        "%load_ext autoreload\n",
        "%autoreload 2"
      ]
    },
    {
      "cell_type": "markdown",
      "metadata": {
        "id": "YFYAQzwCzmSJ"
      },
      "source": [
        "## Documentation\n",
        "\n",
        "To display the documentation associated to a Python function in your notebook (launched in VSCode), you can either\n",
        "- run `?functionname` or `help(my_adder)`\n",
        "- place your mouse pointer on the function name\n",
        "- write the name of the function and start opening the brackets"
      ]
    },
    {
      "cell_type": "markdown",
      "metadata": {
        "id": "ewZT_LGizmSM"
      },
      "source": [
        "## Zen of Python\n"
      ]
    },
    {
      "cell_type": "code",
      "execution_count": 1,
      "metadata": {
        "id": "LE-gy4LVzmSO",
        "outputId": "3cc71406-4250-43e6-b821-c1999fb547a6",
        "colab": {
          "base_uri": "https://localhost:8080/"
        }
      },
      "outputs": [
        {
          "output_type": "stream",
          "name": "stdout",
          "text": [
            "The Zen of Python, by Tim Peters\n",
            "\n",
            "Beautiful is better than ugly.\n",
            "Explicit is better than implicit.\n",
            "Simple is better than complex.\n",
            "Complex is better than complicated.\n",
            "Flat is better than nested.\n",
            "Sparse is better than dense.\n",
            "Readability counts.\n",
            "Special cases aren't special enough to break the rules.\n",
            "Although practicality beats purity.\n",
            "Errors should never pass silently.\n",
            "Unless explicitly silenced.\n",
            "In the face of ambiguity, refuse the temptation to guess.\n",
            "There should be one-- and preferably only one --obvious way to do it.\n",
            "Although that way may not be obvious at first unless you're Dutch.\n",
            "Now is better than never.\n",
            "Although never is often better than *right* now.\n",
            "If the implementation is hard to explain, it's a bad idea.\n",
            "If the implementation is easy to explain, it may be a good idea.\n",
            "Namespaces are one honking great idea -- let's do more of those!\n"
          ]
        }
      ],
      "source": [
        "import this"
      ]
    },
    {
      "cell_type": "markdown",
      "metadata": {
        "id": "Gtxo0Cc0zmSX"
      },
      "source": [
        "## Reserved keywords\n"
      ]
    },
    {
      "cell_type": "code",
      "execution_count": 2,
      "metadata": {
        "id": "tBlazsT5zmSZ",
        "outputId": "baf2f0b7-fd70-427b-aab7-94c5b5bcd236",
        "colab": {
          "base_uri": "https://localhost:8080/"
        }
      },
      "outputs": [
        {
          "output_type": "stream",
          "name": "stdout",
          "text": [
            "['False', 'None', 'True', 'and', 'as', 'assert', 'async', 'await', 'break', 'class', 'continue', 'def', 'del', 'elif', 'else', 'except', 'finally', 'for', 'from', 'global', 'if', 'import', 'in', 'is', 'lambda', 'nonlocal', 'not', 'or', 'pass', 'raise', 'return', 'try', 'while', 'with', 'yield']\n"
          ]
        }
      ],
      "source": [
        "import keyword\n",
        "print(keyword.kwlist)"
      ]
    },
    {
      "cell_type": "markdown",
      "metadata": {
        "id": "fX5Wkx4CzmSb"
      },
      "source": [
        "## Arithmetic"
      ]
    },
    {
      "cell_type": "markdown",
      "metadata": {
        "id": "4WpnhjnAzmSe"
      },
      "source": [
        "Compute 4 raised to the power 8"
      ]
    },
    {
      "cell_type": "code",
      "source": [
        "print(4**8)"
      ],
      "metadata": {
        "id": "eICNAKvB14q6",
        "outputId": "3e5cb7a4-0429-4155-91a8-30c44a910371",
        "colab": {
          "base_uri": "https://localhost:8080/"
        }
      },
      "execution_count": 5,
      "outputs": [
        {
          "output_type": "stream",
          "name": "stdout",
          "text": [
            "65536\n"
          ]
        }
      ]
    },
    {
      "cell_type": "markdown",
      "metadata": {
        "id": "Op08uzK5zmSf"
      },
      "source": [
        "Compute the quotient and the remainder of the euclidean division of 17 by 3."
      ]
    },
    {
      "cell_type": "code",
      "source": [
        "print(17//3,17%3)"
      ],
      "metadata": {
        "id": "KszVXnAF18TY",
        "outputId": "7444aeaf-297b-4b94-e98d-6bdd016ae05c",
        "colab": {
          "base_uri": "https://localhost:8080/"
        }
      },
      "execution_count": 7,
      "outputs": [
        {
          "output_type": "stream",
          "name": "stdout",
          "text": [
            "5 2\n"
          ]
        }
      ]
    },
    {
      "cell_type": "markdown",
      "metadata": {
        "id": "Tf_kAxZTzmSq"
      },
      "source": [
        "Create two integer variables `a, b` of your choice and swap their content."
      ]
    },
    {
      "cell_type": "code",
      "source": [
        "a=5\n",
        "b=6\n",
        "print(a,b)"
      ],
      "metadata": {
        "id": "dUQlUHFF2F5a",
        "outputId": "ac391c64-6fae-4277-e4f8-c6c470dfed9e",
        "colab": {
          "base_uri": "https://localhost:8080/"
        }
      },
      "execution_count": 16,
      "outputs": [
        {
          "output_type": "stream",
          "name": "stdout",
          "text": [
            "5 6\n"
          ]
        }
      ]
    },
    {
      "cell_type": "code",
      "source": [
        "c=a\n",
        "a=b\n",
        "b=c\n",
        "print(a,b)"
      ],
      "metadata": {
        "id": "BUFVuCVM2LE5",
        "outputId": "94a8ff10-5788-4eb6-bef0-2465903d4568",
        "colab": {
          "base_uri": "https://localhost:8080/"
        }
      },
      "execution_count": 17,
      "outputs": [
        {
          "output_type": "stream",
          "name": "stdout",
          "text": [
            "6 5\n"
          ]
        }
      ]
    },
    {
      "cell_type": "markdown",
      "metadata": {
        "id": "RxRRPquqzmSr"
      },
      "source": [
        "Modify `a` inplace, so that the new value of `a` is twice its previous value."
      ]
    },
    {
      "cell_type": "code",
      "source": [
        "a=2*a\n",
        "print(a)"
      ],
      "metadata": {
        "id": "y4l7hlgP2fGj",
        "outputId": "316d4dff-2efb-4e4b-c573-33110cb27f2c",
        "colab": {
          "base_uri": "https://localhost:8080/"
        }
      },
      "execution_count": 18,
      "outputs": [
        {
          "output_type": "stream",
          "name": "stdout",
          "text": [
            "12\n"
          ]
        }
      ]
    },
    {
      "cell_type": "markdown",
      "metadata": {
        "id": "27vc66WczmSs"
      },
      "source": [
        "Define a complex number `z` object and print it as\n",
        "\n",
        "`(real=z.real, imag=z.imaginary)`"
      ]
    },
    {
      "cell_type": "code",
      "source": [
        "z=5+6j\n",
        "print(z.real, z.imag)"
      ],
      "metadata": {
        "id": "ddUtQrXG2krt",
        "outputId": "0af2e349-97cc-4760-83a1-5414bc73e550",
        "colab": {
          "base_uri": "https://localhost:8080/"
        }
      },
      "execution_count": 25,
      "outputs": [
        {
          "output_type": "stream",
          "name": "stdout",
          "text": [
            "5.0 6.0\n"
          ]
        }
      ]
    },
    {
      "cell_type": "markdown",
      "metadata": {
        "id": "bSnUNXxCzmSu"
      },
      "source": [
        "## Strings\n"
      ]
    },
    {
      "cell_type": "markdown",
      "metadata": {
        "id": "JRZcZX_QzmSv"
      },
      "source": [
        "Propose two ways to define an empty string"
      ]
    },
    {
      "cell_type": "code",
      "source": [
        "s=\"\"\n",
        "s=''"
      ],
      "metadata": {
        "id": "DpyrRpL73ATz"
      },
      "execution_count": 27,
      "outputs": []
    },
    {
      "cell_type": "markdown",
      "metadata": {
        "id": "vKZSTw13zmSw"
      },
      "source": [
        "Define a string made of the 26 letters of the alphabet (lower case), then\n",
        "- What is the 12th letter of the alphabet\n",
        "- What are the 10 last letters of the alphabet\n",
        "- What are the 5th to the 10th letters of the alphabet\n",
        "- Create a new string where the 26 letters are converted to upper case."
      ]
    },
    {
      "cell_type": "code",
      "source": [
        "s=\"abcdefghijklmnopqrstuvwxyz\""
      ],
      "metadata": {
        "id": "OHNs7KTM3L2N"
      },
      "execution_count": 28,
      "outputs": []
    },
    {
      "cell_type": "code",
      "source": [
        "## On affiche la 12 ème lettre de l'alphabet\n",
        "print(s[11])"
      ],
      "metadata": {
        "id": "q6i1HOZp3RhA",
        "outputId": "276629a3-3b54-45b0-9425-aa5358af2a97",
        "colab": {
          "base_uri": "https://localhost:8080/"
        }
      },
      "execution_count": 34,
      "outputs": [
        {
          "output_type": "stream",
          "name": "stdout",
          "text": [
            "l\n"
          ]
        }
      ]
    },
    {
      "cell_type": "code",
      "source": [
        "## On affiche les 10 dernières lettres de l'alphabet\n",
        "print(s[-10::])"
      ],
      "metadata": {
        "id": "dXbTgn0I3bQC",
        "outputId": "c10cfcd8-fb1f-4d24-8022-50384f6701ad",
        "colab": {
          "base_uri": "https://localhost:8080/"
        }
      },
      "execution_count": 33,
      "outputs": [
        {
          "output_type": "stream",
          "name": "stdout",
          "text": [
            "qrstuvwxyz\n"
          ]
        }
      ]
    },
    {
      "cell_type": "code",
      "source": [
        "## On affiche les lettres entre la 5ème et la 10ème de l'alphabet\n"
      ],
      "metadata": {
        "id": "4ohxRGS-3nYf"
      },
      "execution_count": 35,
      "outputs": []
    },
    {
      "cell_type": "markdown",
      "metadata": {
        "id": "1wltdvvSzmS1"
      },
      "source": [
        "Extract the first 4 digits of the number `x = 2341324530045968` (answer is `2341`)."
      ]
    },
    {
      "cell_type": "markdown",
      "metadata": {
        "id": "OjTIG-BzzmS3"
      },
      "source": [
        "## Lists"
      ]
    },
    {
      "cell_type": "markdown",
      "metadata": {
        "id": "v0JT5ydSzmS5"
      },
      "source": [
        "Propose two ways to define an empty list."
      ]
    },
    {
      "cell_type": "markdown",
      "metadata": {
        "id": "WZX1hsvFzmS5"
      },
      "source": [
        "Create the list of consecutive integers from 5 to 11."
      ]
    },
    {
      "cell_type": "markdown",
      "metadata": {
        "id": "Y7SV03NDzmS6"
      },
      "source": [
        "Add `100` to this list."
      ]
    },
    {
      "cell_type": "markdown",
      "metadata": {
        "id": "pVBwCqnXzmS6"
      },
      "source": [
        "Given the following list,\n",
        "Change the `\"sdia\"` to its reverse (`\"aids\"`)."
      ]
    },
    {
      "cell_type": "code",
      "execution_count": null,
      "metadata": {
        "id": "jgJkSGamzmS7"
      },
      "outputs": [],
      "source": [
        "x = [10, [3, 4], [5, [100, 200, [\"sdia\"]], 23, 11], 1, 7]"
      ]
    },
    {
      "cell_type": "markdown",
      "metadata": {
        "id": "FyA3WECBzmS8"
      },
      "source": [
        "Given the following list,\n",
        "\n",
        "  1. extract the first two items\n",
        "  2. extract the last two items\n",
        "  3. find the index of the first occurence of `9`\n",
        "  4. extract the items located at odd indices\n",
        "  5. create a new list which corresponds to the reversed version of the originial list\n",
        "  6. create a new list where each item of the original list is raised to the power 3"
      ]
    },
    {
      "cell_type": "code",
      "execution_count": null,
      "metadata": {
        "id": "bjjYhRkLzmS9"
      },
      "outputs": [],
      "source": [
        "x = [3, 7, 5, 3, 8, 6, 8, 8, 0, 7, 3, 9, 3, 4, 2, 7, 0, 9, 5, 0, 0, 9, 0, 9, 3, 1, 4, 0, 5, 5, 5, 8, 9, 9, 5, 5, 4, 9, 5, 6, 2, 8, 5, 2, 4, 9, 2, 2, 3, 1]\n"
      ]
    },
    {
      "cell_type": "markdown",
      "metadata": {
        "id": "TXWxBTuPzmS-"
      },
      "source": [
        "## Tuples"
      ]
    },
    {
      "cell_type": "markdown",
      "metadata": {
        "id": "cC3Pp7RFzmS_"
      },
      "source": [
        "\n",
        "Propose two ways to define an empty tuple."
      ]
    },
    {
      "cell_type": "markdown",
      "metadata": {
        "id": "N_C-_qBnzmTA"
      },
      "source": [
        "Given the following tuple\n",
        "- try to replace the second item (`4`) to `8`.\n",
        "- modify the list so that the second element of the first item is raised to the power 5"
      ]
    },
    {
      "cell_type": "markdown",
      "metadata": {
        "id": "KJBsLcNpzmTG"
      },
      "source": [
        "x = ([1, 2, 3], 4)"
      ]
    },
    {
      "cell_type": "markdown",
      "metadata": {
        "id": "jkdSEqxVzmTJ"
      },
      "source": [
        "What is the main difference between a list and a tuple?"
      ]
    },
    {
      "cell_type": "markdown",
      "metadata": {
        "id": "jy5z8ijdzmTL"
      },
      "source": [
        "## Sets"
      ]
    },
    {
      "cell_type": "markdown",
      "metadata": {
        "id": "NwcpM-vYzmTM"
      },
      "source": [
        "Create an empty set"
      ]
    },
    {
      "cell_type": "markdown",
      "metadata": {
        "id": "5CPwIQOWzmTO"
      },
      "source": [
        "Compute the intersection between $A = \\{1, 2, 3\\}$ and $B = \\{2, 4, 5, 6\\}$."
      ]
    },
    {
      "cell_type": "markdown",
      "metadata": {
        "id": "rCWJXHrszmTP"
      },
      "source": [
        "From the following set\n",
        "- add the numbers 4, 5, 6\n",
        "- remove the numbers 1, 2, 3\n",
        "- check if the resulting set is contained in `{1, 2, 4, 5, 6, 10}`"
      ]
    },
    {
      "cell_type": "code",
      "execution_count": null,
      "metadata": {
        "id": "niWUFweqzmTQ"
      },
      "outputs": [],
      "source": [
        "x = {0, 1, 2, 3, 6, 7, 8, 9, 10}"
      ]
    },
    {
      "cell_type": "markdown",
      "metadata": {
        "id": "pyeERn2vzmTR"
      },
      "source": [
        "## Dictionnaries"
      ]
    },
    {
      "cell_type": "markdown",
      "metadata": {
        "id": "Cl9PnkDdzmTU"
      },
      "source": [
        "Propose two ways to define an empty dictionary"
      ]
    },
    {
      "cell_type": "markdown",
      "metadata": {
        "id": "Vwo4uN-kzmTa"
      },
      "source": [
        "Propose at least 3 ways to define a dictionary with\n",
        "- keys `(\"a\", \"b\", \"c\", \"d\")`\n",
        "- values `(1, 3, 5 , 7)`"
      ]
    },
    {
      "cell_type": "markdown",
      "metadata": {
        "id": "L5pqE6DezmTb"
      },
      "source": [
        "Given the following dictionary, use indexing to get to the word `\"sdia\"`"
      ]
    },
    {
      "cell_type": "code",
      "execution_count": null,
      "metadata": {
        "id": "Nz9hhMU6zmTd"
      },
      "outputs": [],
      "source": [
        "d = {\n",
        "    \"outer\": [\n",
        "        1,\n",
        "        2,\n",
        "        3,\n",
        "        {\"inner\": [\"this\", \"is\", \"inception\", {\"inner_inner\": [1, 2, 3, \"sdia\"]}]},\n",
        "    ]\n",
        "}"
      ]
    },
    {
      "cell_type": "markdown",
      "metadata": {
        "id": "E-sSD5YTzmTg"
      },
      "source": [
        "From the following dictionary,\n",
        "- Create the list of keys\n",
        "- Create the list of values\n",
        "- Check if the key `\"abc\"` is present, if not, return `123`.\n",
        "- Merge the initial dictionary with `{\"e\": -1, 4: True}`"
      ]
    },
    {
      "cell_type": "code",
      "execution_count": null,
      "metadata": {
        "id": "wV9YqWpBzmTg"
      },
      "outputs": [],
      "source": [
        "d1 = dict(zip([(0, 1), \"e\", 1, None], [\"abc\", 4, None, 1 + 2j]))"
      ]
    },
    {
      "cell_type": "markdown",
      "metadata": {
        "id": "lR57OzqQzmTm"
      },
      "source": [
        "## Conditions"
      ]
    },
    {
      "cell_type": "markdown",
      "metadata": {
        "id": "PkLnwcqqzmTo"
      },
      "source": [
        "Propose two ways to construct the list of odd values ranging from 0 to 30"
      ]
    },
    {
      "cell_type": "markdown",
      "metadata": {
        "id": "9UJInUhnzmTp"
      },
      "source": [
        "From the following list, create another list which contains\n",
        "- `\"fiz\"` if the item is a multiple of 5,\n",
        "- `\"buz\"` if the item is a multiple of 7,\n",
        "- `\"fizbuz\"` if the item is a both a multiple of 5 and 7,\n",
        "- the index of the item otherwise."
      ]
    },
    {
      "cell_type": "code",
      "execution_count": null,
      "metadata": {
        "id": "gclitUC8zmTr"
      },
      "outputs": [],
      "source": [
        "x = [2, 1, 3, 31, 35, 20, 70, 132, 144, 49]"
      ]
    },
    {
      "cell_type": "markdown",
      "metadata": {
        "id": "RjF8DcZRzmTr"
      },
      "source": [
        "Given a string variable `course`, construct a `if/elif/else` statement that prints:\n",
        "- `\"That is very useful!\"` if `course` is `\"maths\"` (any kind of capitalization)\n",
        "- `\"That is very useful!\"` if `course` is `\"python\"` (any kind of capitalization)\n",
        "- `\"How nice!\"` if `course` is `\"meditation\"` (any kind of capitalization)\n",
        "- `\"You're not at Hogwarts\"` if `course` is `\"magic\"` (any kind of capitalization)\n",
        "- otherwise `\"What is this COURSE?\"` if `course` is anything else."
      ]
    },
    {
      "cell_type": "markdown",
      "metadata": {
        "id": "qm8AD8R5zmTs"
      },
      "source": [
        "Given the following variables, create and print the string\n",
        "\n",
        "``quantity`` ``fruit``(s) cost(s) $``price``\n",
        "\n",
        "such that\n",
        "- there is an `\"s\"` at `\"cost\"` when there is more only one fruit,\n",
        "- there is an `\"s\"` at `\"fruit\"` when there is more that one fruit,\n",
        "- the price is displayed as ...,xxx,xxx.yy where yy corresponds rounded cents value"
      ]
    },
    {
      "cell_type": "code",
      "execution_count": null,
      "metadata": {
        "id": "5N-GC8XAzmTu"
      },
      "outputs": [],
      "source": [
        "quantity = 1\n",
        "fruit = \"avocado\"\n",
        "price = 1.8912392e4"
      ]
    },
    {
      "cell_type": "markdown",
      "metadata": {
        "id": "XO3sxi10zmTw"
      },
      "source": [
        "## Functions"
      ]
    },
    {
      "cell_type": "markdown",
      "metadata": {
        "id": "AN_YrMpbzmTx"
      },
      "source": [
        "Define the function `is_unique(x)` which takes a list of integers `x` as input and returns `True` if the there is no duplicate items otherwise return `False`."
      ]
    },
    {
      "cell_type": "markdown",
      "metadata": {
        "id": "xp5sgOs7zmTy"
      },
      "source": [
        "Define a function `triangle_shape(height)`, that returns\n",
        "- `\"\"` if `height=0`,\n",
        "- otherwise it returns a string that forms a triangle with height prescribed by `height`.\n",
        "\n",
        "**Examples**\n",
        "\n",
        "height=1\n",
        "```\n",
        "x\n",
        "```\n",
        "\n",
        "height=2\n",
        "```\n",
        " x\n",
        "xxx\n",
        "```\n",
        "\n",
        "height=3\n",
        "```\n",
        "  x  \n",
        " xxx\n",
        "xxxxx\n",
        "```\n",
        "\n",
        "height=4\n",
        "```\n",
        "   x   \n",
        "  xxx  \n",
        " xxxxx\n",
        "xxxxxxx\n",
        "```\n",
        "\n",
        "height=5\n",
        "```\n",
        "    x    \n",
        "   xxx   \n",
        "  xxxxx  \n",
        " xxxxxxx\n",
        "xxxxxxxxx\n",
        "```\n",
        "\n",
        "height=6\n",
        "```\n",
        "     x     \n",
        "    xxx    \n",
        "   xxxxx   \n",
        "  xxxxxxx  \n",
        " xxxxxxxxx\n",
        "xxxxxxxxxxx\n",
        "```"
      ]
    }
  ],
  "metadata": {
    "kernelspec": {
      "display_name": "Python 3.8.10 64-bit",
      "language": "python",
      "name": "python3"
    },
    "language_info": {
      "codemirror_mode": {
        "name": "ipython",
        "version": 3
      },
      "file_extension": ".py",
      "mimetype": "text/x-python",
      "name": "python",
      "nbconvert_exporter": "python",
      "pygments_lexer": "ipython3",
      "version": "3.8.10"
    },
    "orig_nbformat": 4,
    "vscode": {
      "interpreter": {
        "hash": "916dbcbb3f70747c44a77c7bcd40155683ae19c65e1c03b4aa3499c5328201f1"
      }
    },
    "colab": {
      "provenance": []
    }
  },
  "nbformat": 4,
  "nbformat_minor": 0
}