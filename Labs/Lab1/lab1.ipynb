{
  "cells": [
    {
      "cell_type": "markdown",
      "metadata": {
        "id": "WdxWz8suzmRb"
      },
      "source": [
        "# Practical session 1 - Some Python basics\n",
        "\n",
        "Students (pair):\n",
        "- [Awhansou Yémalin]([link](https://github.com/username1))\n",
        "- [Ouzzane Réda]([link](https://github.com/username2))"
      ]
    },
    {
      "cell_type": "markdown",
      "metadata": {
        "id": "faCZ9dj3zmRs"
      },
      "source": [
        "```\n",
        "conda create --name=lab1 --file=requirement.txt\n",
        "conda activate lab1\n",
        "# do not forget to deactivate the environment if needed\n",
        "# you can remove the environment once you are done\n",
        "conda env remove --name=lab1\n",
        "```"
      ]
    },
    {
      "cell_type": "code",
      "execution_count": null,
      "metadata": {
        "id": "4mHMKwNNzmR6"
      },
      "outputs": [],
      "source": [
        "%load_ext autoreload\n",
        "%autoreload 2"
      ]
    },
    {
      "cell_type": "markdown",
      "metadata": {
        "id": "YFYAQzwCzmSJ"
      },
      "source": [
        "## Documentation\n",
        "\n",
        "To display the documentation associated to a Python function in your notebook (launched in VSCode), you can either\n",
        "- run `?functionname` or `help(my_adder)`\n",
        "- place your mouse pointer on the function name\n",
        "- write the name of the function and start opening the brackets"
      ]
    },
    {
      "cell_type": "markdown",
      "metadata": {
        "id": "ewZT_LGizmSM"
      },
      "source": [
        "## Zen of Python\n"
      ]
    },
    {
      "cell_type": "code",
      "execution_count": null,
      "metadata": {
        "colab": {
          "base_uri": "https://localhost:8080/"
        },
        "id": "LE-gy4LVzmSO",
        "outputId": "dafbd09e-2659-4d06-87df-03ef874a5b39"
      },
      "outputs": [
        {
          "name": "stdout",
          "output_type": "stream",
          "text": [
            "The Zen of Python, by Tim Peters\n",
            "\n",
            "Beautiful is better than ugly.\n",
            "Explicit is better than implicit.\n",
            "Simple is better than complex.\n",
            "Complex is better than complicated.\n",
            "Flat is better than nested.\n",
            "Sparse is better than dense.\n",
            "Readability counts.\n",
            "Special cases aren't special enough to break the rules.\n",
            "Although practicality beats purity.\n",
            "Errors should never pass silently.\n",
            "Unless explicitly silenced.\n",
            "In the face of ambiguity, refuse the temptation to guess.\n",
            "There should be one-- and preferably only one --obvious way to do it.\n",
            "Although that way may not be obvious at first unless you're Dutch.\n",
            "Now is better than never.\n",
            "Although never is often better than *right* now.\n",
            "If the implementation is hard to explain, it's a bad idea.\n",
            "If the implementation is easy to explain, it may be a good idea.\n",
            "Namespaces are one honking great idea -- let's do more of those!\n"
          ]
        }
      ],
      "source": [
        "import this"
      ]
    },
    {
      "cell_type": "markdown",
      "metadata": {
        "id": "Gtxo0Cc0zmSX"
      },
      "source": [
        "## Reserved keywords\n"
      ]
    },
    {
      "cell_type": "code",
      "execution_count": null,
      "metadata": {
        "colab": {
          "base_uri": "https://localhost:8080/"
        },
        "id": "tBlazsT5zmSZ",
        "outputId": "835bfb4c-ae07-479d-e24b-3b9456430ed8"
      },
      "outputs": [
        {
          "name": "stdout",
          "output_type": "stream",
          "text": [
            "['False', 'None', 'True', 'and', 'as', 'assert', 'async', 'await', 'break', 'class', 'continue', 'def', 'del', 'elif', 'else', 'except', 'finally', 'for', 'from', 'global', 'if', 'import', 'in', 'is', 'lambda', 'nonlocal', 'not', 'or', 'pass', 'raise', 'return', 'try', 'while', 'with', 'yield']\n"
          ]
        }
      ],
      "source": [
        "import keyword\n",
        "print(keyword.kwlist)"
      ]
    },
    {
      "cell_type": "markdown",
      "metadata": {
        "id": "fX5Wkx4CzmSb"
      },
      "source": [
        "## Arithmetic"
      ]
    },
    {
      "cell_type": "markdown",
      "metadata": {
        "id": "4WpnhjnAzmSe"
      },
      "source": [
        "Compute 4 raised to the power 8"
      ]
    },
    {
      "cell_type": "code",
      "execution_count": null,
      "metadata": {
        "colab": {
          "base_uri": "https://localhost:8080/"
        },
        "id": "eICNAKvB14q6",
        "outputId": "b0c3fca7-6060-4283-de2a-6603b302e13c"
      },
      "outputs": [
        {
          "name": "stdout",
          "output_type": "stream",
          "text": [
            "65536\n"
          ]
        }
      ],
      "source": [
        "print(4**8)"
      ]
    },
    {
      "cell_type": "markdown",
      "metadata": {
        "id": "Op08uzK5zmSf"
      },
      "source": [
        "Compute the quotient and the remainder of the euclidean division of 17 by 3."
      ]
    },
    {
      "cell_type": "code",
      "execution_count": null,
      "metadata": {
        "colab": {
          "base_uri": "https://localhost:8080/"
        },
        "id": "KszVXnAF18TY",
        "outputId": "3c689543-c346-4a43-e081-b6f539e44684"
      },
      "outputs": [
        {
          "name": "stdout",
          "output_type": "stream",
          "text": [
            "5 2\n"
          ]
        }
      ],
      "source": [
        "print(17//3,17%3)"
      ]
    },
    {
      "cell_type": "markdown",
      "metadata": {
        "id": "Tf_kAxZTzmSq"
      },
      "source": [
        "Create two integer variables `a, b` of your choice and swap their content."
      ]
    },
    {
      "cell_type": "code",
      "execution_count": null,
      "metadata": {
        "colab": {
          "base_uri": "https://localhost:8080/"
        },
        "id": "dUQlUHFF2F5a",
        "outputId": "387d104c-8fb2-4cfe-b523-8c6a1f83a20b"
      },
      "outputs": [
        {
          "name": "stdout",
          "output_type": "stream",
          "text": [
            "5 6\n"
          ]
        }
      ],
      "source": [
        "a=5\n",
        "b=6\n",
        "print(a,b)"
      ]
    },
    {
      "cell_type": "code",
      "execution_count": null,
      "metadata": {
        "colab": {
          "base_uri": "https://localhost:8080/"
        },
        "id": "BUFVuCVM2LE5",
        "outputId": "6f02da23-3592-4108-e36e-d7ee3e55e70c"
      },
      "outputs": [
        {
          "name": "stdout",
          "output_type": "stream",
          "text": [
            "6 5\n"
          ]
        }
      ],
      "source": [
        "c=a\n",
        "a=b\n",
        "b=c\n",
        "print(a,b)"
      ]
    },
    {
      "cell_type": "markdown",
      "metadata": {
        "id": "RxRRPquqzmSr"
      },
      "source": [
        "Modify `a` inplace, so that the new value of `a` is twice its previous value."
      ]
    },
    {
      "cell_type": "code",
      "execution_count": null,
      "metadata": {
        "colab": {
          "base_uri": "https://localhost:8080/"
        },
        "id": "y4l7hlgP2fGj",
        "outputId": "4f266142-e6ee-4dc5-86de-4f20d76c466c"
      },
      "outputs": [
        {
          "name": "stdout",
          "output_type": "stream",
          "text": [
            "12\n"
          ]
        }
      ],
      "source": [
        "a=2*a\n",
        "print(a)"
      ]
    },
    {
      "cell_type": "markdown",
      "metadata": {
        "id": "27vc66WczmSs"
      },
      "source": [
        "Define a complex number `z` object and print it as\n",
        "\n",
        "`(real=z.real, imag=z.imaginary)`"
      ]
    },
    {
      "cell_type": "code",
      "execution_count": null,
      "metadata": {
        "colab": {
          "base_uri": "https://localhost:8080/"
        },
        "id": "ddUtQrXG2krt",
        "outputId": "c7826af6-fdf3-4a0c-8998-9f11523f4c77"
      },
      "outputs": [
        {
          "name": "stdout",
          "output_type": "stream",
          "text": [
            "5.0 6.0\n"
          ]
        }
      ],
      "source": [
        "z=5+6j\n",
        "print(z.real, z.imag)"
      ]
    },
    {
      "cell_type": "markdown",
      "metadata": {
        "id": "bSnUNXxCzmSu"
      },
      "source": [
        "## Strings\n"
      ]
    },
    {
      "cell_type": "markdown",
      "metadata": {
        "id": "JRZcZX_QzmSv"
      },
      "source": [
        "Propose two ways to define an empty string"
      ]
    },
    {
      "cell_type": "code",
      "execution_count": null,
      "metadata": {
        "colab": {
          "base_uri": "https://localhost:8080/"
        },
        "id": "DpyrRpL73ATz",
        "outputId": "2c4b2b01-3f3e-408f-f1c9-3c4cd028184e"
      },
      "outputs": [
        {
          "name": "stdout",
          "output_type": "stream",
          "text": [
            " \n"
          ]
        }
      ],
      "source": [
        "s1=\"\"\n",
        "s2=str()\n",
        "print(s1,s2)"
      ]
    },
    {
      "cell_type": "markdown",
      "metadata": {
        "id": "vKZSTw13zmSw"
      },
      "source": [
        "Define a string made of the 26 letters of the alphabet (lower case), then\n",
        "- What is the 12th letter of the alphabet\n",
        "- What are the 10 last letters of the alphabet\n",
        "- What are the 5th to the 10th letters of the alphabet\n",
        "- Create a new string where the 26 letters are converted to upper case."
      ]
    },
    {
      "cell_type": "code",
      "execution_count": null,
      "metadata": {
        "id": "OHNs7KTM3L2N"
      },
      "outputs": [],
      "source": [
        "s=\"abcdefghijklmnopqrstuvwxyz\""
      ]
    },
    {
      "cell_type": "code",
      "execution_count": null,
      "metadata": {
        "colab": {
          "base_uri": "https://localhost:8080/"
        },
        "id": "q6i1HOZp3RhA",
        "outputId": "e72dee60-3fef-4d6f-b5f5-e1d52df9f87f"
      },
      "outputs": [
        {
          "name": "stdout",
          "output_type": "stream",
          "text": [
            "l\n"
          ]
        }
      ],
      "source": [
        "# On affiche la 12 ème lettre de l'alphabet\n",
        "print(s[11])"
      ]
    },
    {
      "cell_type": "code",
      "execution_count": 1,
      "metadata": {
        "colab": {
          "base_uri": "https://localhost:8080/"
        },
        "id": "dXbTgn0I3bQC",
        "outputId": "48eeb808-aac3-46ab-820c-2b1e86e88e5d"
      },
      "outputs": [
        {
          "ename": "NameError",
          "evalue": "name 's' is not defined",
          "output_type": "error",
          "traceback": [
            "\u001b[1;31m---------------------------------------------------------------------------\u001b[0m",
            "\u001b[1;31mNameError\u001b[0m                                 Traceback (most recent call last)",
            "Cell \u001b[1;32mIn[1], line 2\u001b[0m\n\u001b[0;32m      1\u001b[0m \u001b[38;5;66;03m# On affiche les 10 dernières lettres de l'alphabet\u001b[39;00m\n\u001b[1;32m----> 2\u001b[0m \u001b[38;5;28mprint\u001b[39m(\u001b[43ms\u001b[49m[\u001b[38;5;241m-\u001b[39m\u001b[38;5;241m10\u001b[39m::])\n",
            "\u001b[1;31mNameError\u001b[0m: name 's' is not defined"
          ]
        }
      ],
      "source": [
        "# On affiche les 10 dernières lettres de l'alphabet\n",
        "print(s[-10::])"
      ]
    },
    {
      "cell_type": "code",
      "execution_count": null,
      "metadata": {
        "colab": {
          "base_uri": "https://localhost:8080/"
        },
        "id": "4ohxRGS-3nYf",
        "outputId": "ed1436c7-5944-4d03-fcc2-fe45e16df1a3"
      },
      "outputs": [
        {
          "name": "stdout",
          "output_type": "stream",
          "text": [
            "efghij\n"
          ]
        }
      ],
      "source": [
        "# On affiche les lettres entre la 5ème et la 10ème de l'alphabet\n",
        "print(s[4:10])"
      ]
    },
    {
      "cell_type": "code",
      "execution_count": null,
      "metadata": {
        "colab": {
          "base_uri": "https://localhost:8080/"
        },
        "id": "6b3pRj2Q4bus",
        "outputId": "507b150d-992a-4fe5-d62b-849186358974"
      },
      "outputs": [
        {
          "name": "stdout",
          "output_type": "stream",
          "text": [
            "ABCDEFGHIJKLMNOPQRSTUVWXYZ\n"
          ]
        }
      ],
      "source": [
        "# On met la chaîne de caractères en majuscules\n",
        "a=s.upper()\n",
        "print(a)"
      ]
    },
    {
      "cell_type": "markdown",
      "metadata": {
        "id": "1wltdvvSzmS1"
      },
      "source": [
        "Extract the first 4 digits of the number `x = 2341324530045968` (answer is `2341`)."
      ]
    },
    {
      "cell_type": "code",
      "execution_count": null,
      "metadata": {
        "id": "p1qE94sF4nyN"
      },
      "outputs": [],
      "source": [
        "x=2341324530045968"
      ]
    },
    {
      "cell_type": "code",
      "execution_count": null,
      "metadata": {
        "colab": {
          "base_uri": "https://localhost:8080/"
        },
        "id": "2I8msYQN4qau",
        "outputId": "6f8a417f-ec7b-4679-9e12-ddaee7e4ecd6"
      },
      "outputs": [
        {
          "name": "stdout",
          "output_type": "stream",
          "text": [
            "2341\n"
          ]
        }
      ],
      "source": [
        "s=str(x)\n",
        "print(int(s[:4]))"
      ]
    },
    {
      "cell_type": "markdown",
      "metadata": {
        "id": "OjTIG-BzzmS3"
      },
      "source": [
        "## Lists"
      ]
    },
    {
      "cell_type": "markdown",
      "metadata": {
        "id": "v0JT5ydSzmS5"
      },
      "source": [
        "Propose two ways to define an empty list."
      ]
    },
    {
      "cell_type": "code",
      "execution_count": null,
      "metadata": {
        "colab": {
          "base_uri": "https://localhost:8080/"
        },
        "id": "7lLxpvOw47TC",
        "outputId": "040e0e25-4453-4e61-a095-a90c5d27c435"
      },
      "outputs": [
        {
          "name": "stdout",
          "output_type": "stream",
          "text": [
            "[] []\n"
          ]
        }
      ],
      "source": [
        "L1=[]\n",
        "L2=list()\n",
        "print(L1,L2)\n"
      ]
    },
    {
      "cell_type": "markdown",
      "metadata": {
        "id": "WZX1hsvFzmS5"
      },
      "source": [
        "Create the list of consecutive integers from 5 to 11."
      ]
    },
    {
      "cell_type": "code",
      "execution_count": null,
      "metadata": {
        "colab": {
          "base_uri": "https://localhost:8080/"
        },
        "id": "SL2q1UPR49Fb",
        "outputId": "11c0bf58-1753-4765-9f80-0c570fc06268"
      },
      "outputs": [
        {
          "name": "stdout",
          "output_type": "stream",
          "text": [
            "[5, 6, 7, 8, 9, 10, 11]\n"
          ]
        }
      ],
      "source": [
        "L=[k for k in range(5,12)]\n",
        "print(L)"
      ]
    },
    {
      "cell_type": "markdown",
      "metadata": {
        "id": "Y7SV03NDzmS6"
      },
      "source": [
        "Add `100` to this list."
      ]
    },
    {
      "cell_type": "code",
      "execution_count": null,
      "metadata": {
        "id": "gKPX55Nb5QiD"
      },
      "outputs": [],
      "source": [
        "L.append(100)"
      ]
    },
    {
      "cell_type": "markdown",
      "metadata": {
        "id": "pVBwCqnXzmS6"
      },
      "source": [
        "Given the following list,\n",
        "Change the `\"sdia\"` to its reverse (`\"aids\"`)."
      ]
    },
    {
      "cell_type": "code",
      "execution_count": null,
      "metadata": {
        "id": "jgJkSGamzmS7"
      },
      "outputs": [],
      "source": [
        "x = [10, [3, 4], [5, [100, 200, [\"sdia\"]], 23, 11], 1, 7]"
      ]
    },
    {
      "cell_type": "code",
      "execution_count": null,
      "metadata": {
        "colab": {
          "base_uri": "https://localhost:8080/"
        },
        "id": "PabHOJB054_A",
        "outputId": "2886d22d-705b-4ff3-deda-0cadb7e7c666"
      },
      "outputs": [
        {
          "name": "stdout",
          "output_type": "stream",
          "text": [
            "[10, [3, 4], [5, [100, 200, ['aids']], 23, 11], 1, 7]\n"
          ]
        }
      ],
      "source": [
        "x[2][1][2][0]=\"aids\"\n",
        "print(x)"
      ]
    },
    {
      "cell_type": "markdown",
      "metadata": {
        "id": "FyA3WECBzmS8"
      },
      "source": [
        "Given the following list,\n",
        "\n",
        "  1. extract the first two items\n",
        "  2. extract the last two items\n",
        "  3. find the index of the first occurence of `9`\n",
        "  4. extract the items located at odd indices\n",
        "  5. create a new list which corresponds to the reversed version of the originial list\n",
        "  6. create a new list where each item of the original list is raised to the power 3"
      ]
    },
    {
      "cell_type": "code",
      "execution_count": null,
      "metadata": {
        "id": "bjjYhRkLzmS9"
      },
      "outputs": [],
      "source": [
        "x = [3, 7, 5, 3, 8, 6, 8, 8, 0, 7, 3, 9, 3, 4, 2, 7, 0, 9, 5, 0, 0, 9, 0, 9, 3, 1, 4, 0, 5, 5, 5, 8, 9, 9, 5, 5, 4, 9, 5, 6, 2, 8, 5, 2, 4, 9, 2, 2, 3, 1]\n"
      ]
    },
    {
      "cell_type": "code",
      "execution_count": null,
      "metadata": {
        "colab": {
          "base_uri": "https://localhost:8080/"
        },
        "id": "5OlVQnd56IHd",
        "outputId": "28ee8c1d-2054-4cdc-e331-22fd5a787ed2"
      },
      "outputs": [
        {
          "name": "stdout",
          "output_type": "stream",
          "text": [
            "[10, [3, 4]] [1, 7]\n"
          ]
        }
      ],
      "source": [
        "# On extrait les 2 premiers et les deux derniers objets de la liste\n",
        "a=x[:2]\n",
        "b=x[-2:]\n",
        "print(a,b)"
      ]
    },
    {
      "cell_type": "code",
      "execution_count": null,
      "metadata": {
        "colab": {
          "base_uri": "https://localhost:8080/"
        },
        "id": "pSaBMquQ6z6h",
        "outputId": "805d0349-7868-4393-fcff-3de836d01939"
      },
      "outputs": [
        {
          "data": {
            "text/plain": [
              "[[3, 4], 1]"
            ]
          },
          "execution_count": 26,
          "metadata": {},
          "output_type": "execute_result"
        }
      ],
      "source": [
        "# On extrait les objets d'indice impaires (le premier objet est à l'indice 0)\n",
        "d=x[1::2]\n",
        "d"
      ]
    },
    {
      "cell_type": "code",
      "execution_count": null,
      "metadata": {
        "colab": {
          "base_uri": "https://localhost:8080/"
        },
        "id": "0NsmVKBX7BE0",
        "outputId": "b9df7f3f-2ccb-47cc-b81f-1260a9d319cd"
      },
      "outputs": [
        {
          "name": "stdout",
          "output_type": "stream",
          "text": [
            "[1, 3, 2, 2, 9, 4, 2, 5, 8, 2, 6, 5, 9, 4, 5, 5, 9, 9, 8, 5, 5, 5, 0, 4, 1, 3, 9, 0, 9, 0, 0, 5, 9, 0, 7, 2, 4, 3, 9, 3, 7, 0, 8, 8, 6, 8, 3, 5, 7, 3]\n"
          ]
        }
      ],
      "source": [
        "# On inverse la liste\n",
        "e=x[::-1]\n",
        "print(e)"
      ]
    },
    {
      "cell_type": "code",
      "execution_count": null,
      "metadata": {
        "colab": {
          "base_uri": "https://localhost:8080/"
        },
        "id": "EMi04_Gm7JbX",
        "outputId": "e6d0553f-e293-4de2-e6a1-06931c1c099b"
      },
      "outputs": [
        {
          "data": {
            "text/plain": [
              "[27,\n",
              " 343,\n",
              " 125,\n",
              " 27,\n",
              " 512,\n",
              " 216,\n",
              " 512,\n",
              " 512,\n",
              " 0,\n",
              " 343,\n",
              " 27,\n",
              " 729,\n",
              " 27,\n",
              " 64,\n",
              " 8,\n",
              " 343,\n",
              " 0,\n",
              " 729,\n",
              " 125,\n",
              " 0,\n",
              " 0,\n",
              " 729,\n",
              " 0,\n",
              " 729,\n",
              " 27,\n",
              " 1,\n",
              " 64,\n",
              " 0,\n",
              " 125,\n",
              " 125,\n",
              " 125,\n",
              " 512,\n",
              " 729,\n",
              " 729,\n",
              " 125,\n",
              " 125,\n",
              " 64,\n",
              " 729,\n",
              " 125,\n",
              " 216,\n",
              " 8,\n",
              " 512,\n",
              " 125,\n",
              " 8,\n",
              " 64,\n",
              " 729,\n",
              " 8,\n",
              " 8,\n",
              " 27,\n",
              " 1]"
            ]
          },
          "execution_count": 37,
          "metadata": {},
          "output_type": "execute_result"
        }
      ],
      "source": [
        "# On crée une nouvelle liste dont les nombres sont élevées à la puissance 3\n",
        "f=[k**3 for k in x]\n",
        "f"
      ]
    },
    {
      "cell_type": "markdown",
      "metadata": {
        "id": "TXWxBTuPzmS-"
      },
      "source": [
        "## Tuples"
      ]
    },
    {
      "cell_type": "markdown",
      "metadata": {
        "id": "cC3Pp7RFzmS_"
      },
      "source": [
        "\n",
        "Propose two ways to define an empty tuple."
      ]
    },
    {
      "cell_type": "code",
      "execution_count": null,
      "metadata": {
        "colab": {
          "base_uri": "https://localhost:8080/"
        },
        "id": "9TH9GDdz7hLh",
        "outputId": "3b844898-db6d-41bc-a53d-c21d8763529b"
      },
      "outputs": [
        {
          "name": "stdout",
          "output_type": "stream",
          "text": [
            "() ()\n"
          ]
        }
      ],
      "source": [
        "t1=()\n",
        "t2=tuple()\n",
        "print(t1,t2)"
      ]
    },
    {
      "cell_type": "markdown",
      "metadata": {
        "id": "N_C-_qBnzmTA"
      },
      "source": [
        "Given the following tuple\n",
        "- try to replace the second item (`4`) to `8`.\n",
        "- modify the list so that the second element of the first item is raised to the power 5"
      ]
    },
    {
      "cell_type": "markdown",
      "metadata": {
        "id": "KJBsLcNpzmTG"
      },
      "source": [
        "*x* = ([1, 2, 3], 4)"
      ]
    },
    {
      "cell_type": "markdown",
      "metadata": {
        "id": "jkdSEqxVzmTJ"
      },
      "source": [
        "What is the main difference between a list and a tuple?"
      ]
    },
    {
      "cell_type": "code",
      "execution_count": null,
      "metadata": {
        "id": "KUdDlUCkCA4M"
      },
      "outputs": [],
      "source": [
        "x = ([1, 2, 3], 4)"
      ]
    },
    {
      "cell_type": "code",
      "execution_count": null,
      "metadata": {
        "colab": {
          "base_uri": "https://localhost:8080/",
          "height": 162
        },
        "id": "BkuM1w4t_OA1",
        "outputId": "8ed41842-e3c7-408b-b68f-a0e2f7a31638"
      },
      "outputs": [
        {
          "ename": "TypeError",
          "evalue": "'tuple' object does not support item assignment",
          "output_type": "error",
          "traceback": [
            "\u001b[0;31m---------------------------------------------------------------------------\u001b[0m",
            "\u001b[0;31mTypeError\u001b[0m                                 Traceback (most recent call last)",
            "\u001b[0;32m/tmp/ipython-input-1886437640.py\u001b[0m in \u001b[0;36m<cell line: 0>\u001b[0;34m()\u001b[0m\n\u001b[1;32m      1\u001b[0m \u001b[0;31m# On a une erreur lorsqu'on veut remplacer la valeur 4 du tuple par un 8\u001b[0m\u001b[0;34m\u001b[0m\u001b[0;34m\u001b[0m\u001b[0m\n\u001b[0;32m----> 2\u001b[0;31m \u001b[0mx\u001b[0m\u001b[0;34m[\u001b[0m\u001b[0;36m1\u001b[0m\u001b[0;34m]\u001b[0m\u001b[0;34m=\u001b[0m\u001b[0;36m8\u001b[0m\u001b[0;34m\u001b[0m\u001b[0;34m\u001b[0m\u001b[0m\n\u001b[0m",
            "\u001b[0;31mTypeError\u001b[0m: 'tuple' object does not support item assignment"
          ]
        }
      ],
      "source": [
        "# On a une erreur lorsqu'on veut remplacer la valeur 4 du tuple par un 8\n",
        "x[1]=8"
      ]
    },
    {
      "cell_type": "code",
      "execution_count": null,
      "metadata": {
        "colab": {
          "base_uri": "https://localhost:8080/"
        },
        "id": "Vf_FRm99CLcr",
        "outputId": "6f44ebaf-2927-4cae-8775-695c4714e68d"
      },
      "outputs": [
        {
          "name": "stdout",
          "output_type": "stream",
          "text": [
            "([1, 32, 3], 4)\n"
          ]
        }
      ],
      "source": [
        "# On élève à la puissance 5 le deuxième élément de la liste présente dans le tuple\n",
        "x[0][1]=x[0][1]**5\n",
        "print(x)"
      ]
    },
    {
      "cell_type": "markdown",
      "metadata": {
        "id": "bkzNALCZC3_v"
      },
      "source": [
        "On voit que la principale différence entre une liste et un tuple et que la liste est modifiable après son initialisation (mutable) alors que le tuple ne l'est pas."
      ]
    },
    {
      "cell_type": "markdown",
      "metadata": {
        "id": "jy5z8ijdzmTL"
      },
      "source": [
        "## Sets"
      ]
    },
    {
      "cell_type": "markdown",
      "metadata": {
        "id": "NwcpM-vYzmTM"
      },
      "source": [
        "Create an empty set"
      ]
    },
    {
      "cell_type": "code",
      "execution_count": null,
      "metadata": {
        "id": "H25uHShVDNe0"
      },
      "outputs": [],
      "source": [
        "S=set()"
      ]
    },
    {
      "cell_type": "markdown",
      "metadata": {
        "id": "5CPwIQOWzmTO"
      },
      "source": [
        "Compute the intersection between $A = \\{1, 2, 3\\}$ and $B = \\{2, 4, 5, 6\\}$."
      ]
    },
    {
      "cell_type": "code",
      "execution_count": null,
      "metadata": {
        "colab": {
          "base_uri": "https://localhost:8080/"
        },
        "id": "14LsFJxMDUgZ",
        "outputId": "6892cf4a-9757-492a-d376-bad27b30ace1"
      },
      "outputs": [
        {
          "name": "stdout",
          "output_type": "stream",
          "text": [
            "{2}\n"
          ]
        }
      ],
      "source": [
        "A={1,2,3}\n",
        "B={2,4,5,6}\n",
        "C=A&B\n",
        "print(C)"
      ]
    },
    {
      "cell_type": "markdown",
      "metadata": {
        "id": "rCWJXHrszmTP"
      },
      "source": [
        "From the following set\n",
        "- add the numbers 4, 5, 6\n",
        "- remove the numbers 1, 2, 3\n",
        "- check if the resulting set is contained in `{1, 2, 4, 5, 6, 10}`"
      ]
    },
    {
      "cell_type": "code",
      "execution_count": null,
      "metadata": {
        "colab": {
          "base_uri": "https://localhost:8080/"
        },
        "id": "gamaKSKgEE-B",
        "outputId": "847890cc-9667-4977-ef3e-5aae13b9ca32"
      },
      "outputs": [
        {
          "name": "stdout",
          "output_type": "stream",
          "text": [
            "{2, 4, 5, 6}\n"
          ]
        }
      ],
      "source": [
        "C.update({4,5,6})\n",
        "print(C)"
      ]
    },
    {
      "cell_type": "code",
      "execution_count": null,
      "metadata": {
        "colab": {
          "base_uri": "https://localhost:8080/"
        },
        "id": "LkjMh7r9EcxD",
        "outputId": "aece7097-575b-4a76-ba53-054f7b55b995"
      },
      "outputs": [
        {
          "name": "stdout",
          "output_type": "stream",
          "text": [
            "{4, 5, 6}\n"
          ]
        }
      ],
      "source": [
        "C-={1,2,3}\n",
        "print(C)"
      ]
    },
    {
      "cell_type": "code",
      "execution_count": null,
      "metadata": {
        "id": "cnP2M58JHOcX"
      },
      "outputs": [],
      "source": [
        "D={1, 2, 4, 5, 6, 10}"
      ]
    },
    {
      "cell_type": "code",
      "execution_count": null,
      "metadata": {
        "colab": {
          "base_uri": "https://localhost:8080/"
        },
        "id": "xHYBkHheHT5e",
        "outputId": "f393ac28-2f73-40a9-8caa-a1a1e13a337e"
      },
      "outputs": [
        {
          "data": {
            "text/plain": [
              "True"
            ]
          },
          "execution_count": 106,
          "metadata": {},
          "output_type": "execute_result"
        }
      ],
      "source": [
        "# On regarde si l'ensemble C est inclus dans l'ensemble D\n",
        "C<D"
      ]
    },
    {
      "cell_type": "code",
      "execution_count": null,
      "metadata": {
        "id": "niWUFweqzmTQ"
      },
      "outputs": [],
      "source": [
        "x = {0, 1, 2, 3, 6, 7, 8, 9, 10}"
      ]
    },
    {
      "cell_type": "markdown",
      "metadata": {
        "id": "pyeERn2vzmTR"
      },
      "source": [
        "## Dictionnaries"
      ]
    },
    {
      "cell_type": "markdown",
      "metadata": {
        "id": "Cl9PnkDdzmTU"
      },
      "source": [
        "Propose two ways to define an empty dictionary"
      ]
    },
    {
      "cell_type": "code",
      "execution_count": null,
      "metadata": {
        "id": "qsn8YLJmKhiI"
      },
      "outputs": [],
      "source": [
        "dict1={}\n",
        "dict2=dict()"
      ]
    },
    {
      "cell_type": "markdown",
      "metadata": {
        "id": "Vwo4uN-kzmTa"
      },
      "source": [
        "Propose at least 3 ways to define a dictionary with\n",
        "- keys `(\"a\", \"b\", \"c\", \"d\")`\n",
        "- values `(1, 3, 5 , 7)`"
      ]
    },
    {
      "cell_type": "code",
      "execution_count": null,
      "metadata": {
        "colab": {
          "base_uri": "https://localhost:8080/"
        },
        "id": "zOJ9UvtKKnWF",
        "outputId": "ef754744-380c-4eeb-bcb5-9ce57d771e4b"
      },
      "outputs": [
        {
          "name": "stdout",
          "output_type": "stream",
          "text": [
            "{'a': 1, 'b': 3, 'c': 5, 'd': 7}\n"
          ]
        }
      ],
      "source": [
        "dict1={\n",
        "    \"a\" : 1,\n",
        "    \"b\" : 3,\n",
        "    \"c\" : 5,\n",
        "    \"d\" : 7\n",
        "}\n",
        "\n",
        "print(dict1)"
      ]
    },
    {
      "cell_type": "code",
      "execution_count": null,
      "metadata": {
        "colab": {
          "base_uri": "https://localhost:8080/"
        },
        "id": "_cgQ0tI_LOTq",
        "outputId": "c2ebe3ca-b5c2-43e2-9b34-a9581e29233f"
      },
      "outputs": [
        {
          "name": "stdout",
          "output_type": "stream",
          "text": [
            "{'a': 1, 'b': 3, 'c': 5, 'd': 7}\n"
          ]
        }
      ],
      "source": [
        "dict2=dict([('a', 1), ('b', 3), ('c', 5), ('d', 7)])\n",
        "print(dict2)"
      ]
    },
    {
      "cell_type": "code",
      "execution_count": null,
      "metadata": {
        "colab": {
          "base_uri": "https://localhost:8080/"
        },
        "id": "b0bAgCwdLzcp",
        "outputId": "4364e699-9c52-4074-df8b-b54331a0c0f9"
      },
      "outputs": [
        {
          "name": "stdout",
          "output_type": "stream",
          "text": [
            "{'a': 1, 'b': 3, 'c': 5, 'd': 7}\n"
          ]
        }
      ],
      "source": [
        "keys = (\"a\", \"b\", \"c\", \"d\")\n",
        "values = (1, 3, 5, 7)\n",
        "dict3={key:valeur for key,valeur in zip(keys,values)}\n",
        "print(dict3)"
      ]
    },
    {
      "cell_type": "markdown",
      "metadata": {
        "id": "L5pqE6DezmTb"
      },
      "source": [
        "Given the following dictionary, use indexing to get to the word `\"sdia\"`"
      ]
    },
    {
      "cell_type": "code",
      "execution_count": null,
      "metadata": {
        "id": "Nz9hhMU6zmTd"
      },
      "outputs": [],
      "source": [
        "d = {\n",
        "    \"outer\": [\n",
        "        1,\n",
        "        2,\n",
        "        3,\n",
        "        {\"inner\": [\"this\", \"is\", \"inception\", {\"inner_inner\": [1, 2, 3, \"sdia\"]}]},\n",
        "    ]\n",
        "}"
      ]
    },
    {
      "cell_type": "code",
      "execution_count": null,
      "metadata": {
        "colab": {
          "base_uri": "https://localhost:8080/",
          "height": 35
        },
        "id": "lOgUVbP2OeNm",
        "outputId": "bf0c3f08-28d1-432f-a987-541f09bdad69"
      },
      "outputs": [
        {
          "data": {
            "application/vnd.google.colaboratory.intrinsic+json": {
              "type": "string"
            },
            "text/plain": [
              "'sdia'"
            ]
          },
          "execution_count": 126,
          "metadata": {},
          "output_type": "execute_result"
        }
      ],
      "source": [
        "d[\"outer\"][3][\"inner\"][3][\"inner_inner\"][3]"
      ]
    },
    {
      "cell_type": "markdown",
      "metadata": {
        "id": "E-sSD5YTzmTg"
      },
      "source": [
        "From the following dictionary,\n",
        "- Create the list of keys\n",
        "- Create the list of values\n",
        "- Check if the key `\"abc\"` is present, if not, return `123`.\n",
        "- Merge the initial dictionary with `{\"e\": -1, 4: True}`"
      ]
    },
    {
      "cell_type": "code",
      "execution_count": null,
      "metadata": {
        "id": "wV9YqWpBzmTg"
      },
      "outputs": [],
      "source": [
        "d1 = dict(zip([(0, 1), \"e\", 1, None], [\"abc\", 4, None, 1 + 2j]))"
      ]
    },
    {
      "cell_type": "code",
      "execution_count": null,
      "metadata": {
        "colab": {
          "base_uri": "https://localhost:8080/"
        },
        "id": "knAUVtwHO3rQ",
        "outputId": "da2124f3-0a13-474f-b41c-7016f0734e6f"
      },
      "outputs": [
        {
          "name": "stdout",
          "output_type": "stream",
          "text": [
            "dict_keys([(0, 1), 'e', 1, None])\n"
          ]
        }
      ],
      "source": [
        "keys=d1.keys()\n",
        "print(keys)"
      ]
    },
    {
      "cell_type": "code",
      "execution_count": null,
      "metadata": {
        "colab": {
          "base_uri": "https://localhost:8080/"
        },
        "id": "lWZ-8w8GO9xZ",
        "outputId": "2dc1356f-1a47-48b6-fccb-a830aa8e4896"
      },
      "outputs": [
        {
          "name": "stdout",
          "output_type": "stream",
          "text": [
            "dict_values(['abc', 4, None, (1+2j)])\n"
          ]
        }
      ],
      "source": [
        "values=d1.values()\n",
        "print(values)"
      ]
    },
    {
      "cell_type": "code",
      "execution_count": null,
      "metadata": {
        "colab": {
          "base_uri": "https://localhost:8080/"
        },
        "id": "MnERdwGTPDSR",
        "outputId": "750d76f5-b6ec-451e-f5ac-4a0ebfb10143"
      },
      "outputs": [
        {
          "name": "stdout",
          "output_type": "stream",
          "text": [
            "123\n"
          ]
        }
      ],
      "source": [
        "if \"abc\" in d1 :\n",
        "  print(\"la clé est présente\")\n",
        "else :\n",
        "  print(123)\n",
        "# Comme on a pas fait de fonction, on print la valeur 123 au lieu de return 123"
      ]
    },
    {
      "cell_type": "code",
      "execution_count": null,
      "metadata": {
        "colab": {
          "base_uri": "https://localhost:8080/"
        },
        "id": "s6nUh8VFPq46",
        "outputId": "ae081906-9c1f-48e0-893a-909fc2be7a5b"
      },
      "outputs": [
        {
          "name": "stdout",
          "output_type": "stream",
          "text": [
            "{(0, 1): 'abc', 'e': -1, 1: None, None: (1+2j), 4: True}\n"
          ]
        }
      ],
      "source": [
        "d2={\"e\": -1, 4: True}\n",
        "d1.update(d2)\n",
        "print(d1)"
      ]
    },
    {
      "cell_type": "markdown",
      "metadata": {
        "id": "lR57OzqQzmTm"
      },
      "source": [
        "## Conditions"
      ]
    },
    {
      "cell_type": "markdown",
      "metadata": {
        "id": "PkLnwcqqzmTo"
      },
      "source": [
        "Propose two ways to construct the list of odd values ranging from 0 to 30"
      ]
    },
    {
      "cell_type": "code",
      "execution_count": null,
      "metadata": {
        "colab": {
          "base_uri": "https://localhost:8080/"
        },
        "id": "AK-CbkCDQIf7",
        "outputId": "784bd3be-d28a-4fad-a7f9-8934d285cfc9"
      },
      "outputs": [
        {
          "name": "stdout",
          "output_type": "stream",
          "text": [
            "[1, 3, 5, 7, 9, 11, 13, 15, 17, 19, 21, 23, 25, 27, 29]\n"
          ]
        }
      ],
      "source": [
        "L1=[2*k+1 for k in range(0,15)]\n",
        "print(L1)"
      ]
    },
    {
      "cell_type": "code",
      "execution_count": null,
      "metadata": {
        "colab": {
          "base_uri": "https://localhost:8080/"
        },
        "id": "bHL6kSqVQfum",
        "outputId": "e7342ea5-e23c-4c2b-e6e5-df30f4d32cc1"
      },
      "outputs": [
        {
          "name": "stdout",
          "output_type": "stream",
          "text": [
            "[1, 3, 5, 7, 9, 11, 13, 15, 17, 19, 21, 23, 25, 27, 29]\n"
          ]
        }
      ],
      "source": [
        "L2=[k for k in range(31)]\n",
        "L2=L2[1::2]\n",
        "print(L2)"
      ]
    },
    {
      "cell_type": "markdown",
      "metadata": {
        "id": "9UJInUhnzmTp"
      },
      "source": [
        "From the following list, create another list which contains\n",
        "- `\"fiz\"` if the item is a multiple of 5,\n",
        "- `\"buz\"` if the item is a multiple of 7,\n",
        "- `\"fizbuz\"` if the item is a both a multiple of 5 and 7,\n",
        "- the index of the item otherwise."
      ]
    },
    {
      "cell_type": "code",
      "execution_count": null,
      "metadata": {
        "id": "gclitUC8zmTr"
      },
      "outputs": [],
      "source": [
        "x = [2, 1, 3, 31, 35, 20, 70, 132, 144, 49]"
      ]
    },
    {
      "cell_type": "code",
      "execution_count": null,
      "metadata": {
        "id": "nR-TsbZyQsGB"
      },
      "outputs": [],
      "source": [
        "def modification(L):\n",
        "  S=[]\n",
        "  for k in range(len(L)):\n",
        "    a=L[k]\n",
        "    if a%5==0:\n",
        "      if a%7==0:\n",
        "        S.append(\"fizbuz\")\n",
        "      else :\n",
        "        S.append(\"fiz\")\n",
        "    elif a%7==0:\n",
        "      S.append(\"buz\")\n",
        "    else :\n",
        "      S.append(k)\n",
        "  return S"
      ]
    },
    {
      "cell_type": "code",
      "execution_count": null,
      "metadata": {
        "colab": {
          "base_uri": "https://localhost:8080/"
        },
        "id": "WXEcCkEsSXql",
        "outputId": "d8e0e262-c4f6-489f-bccc-1044004c6d18"
      },
      "outputs": [
        {
          "data": {
            "text/plain": [
              "[0, 1, 2, 3, 'fizbuz', 'fiz', 'fizbuz', 7, 8, 'buz']"
            ]
          },
          "execution_count": 154,
          "metadata": {},
          "output_type": "execute_result"
        }
      ],
      "source": [
        "modification(x)"
      ]
    },
    {
      "cell_type": "markdown",
      "metadata": {
        "id": "RjF8DcZRzmTr"
      },
      "source": [
        "Given a string variable `course`, construct a `if/elif/else` statement that prints:\n",
        "- `\"That is very useful!\"` if `course` is `\"maths\"` (any kind of capitalization)\n",
        "- `\"That is very useful!\"` if `course` is `\"python\"` (any kind of capitalization)\n",
        "- `\"How nice!\"` if `course` is `\"meditation\"` (any kind of capitalization)\n",
        "- `\"You're not at Hogwarts\"` if `course` is `\"magic\"` (any kind of capitalization)\n",
        "- otherwise `\"What is this COURSE?\"` if `course` is anything else."
      ]
    },
    {
      "cell_type": "code",
      "execution_count": null,
      "metadata": {
        "colab": {
          "base_uri": "https://localhost:8080/"
        },
        "id": "GP_XhI9USe03",
        "outputId": "b48ae0e7-fd51-4dac-d181-284fe663c117"
      },
      "outputs": [
        {
          "name": "stdout",
          "output_type": "stream",
          "text": [
            "That is very useful!\n"
          ]
        }
      ],
      "source": [
        "def statement(course):\n",
        "  course=course.lower()\n",
        "  # On met la chaine de caractère en minuscule pour gérer les différents types de capitalisation\n",
        "  if course==\"maths\":\n",
        "    print(\"That is very useful!\")\n",
        "  elif course==\"python\":\n",
        "    print(\"That is very useful!\")\n",
        "  elif course==\"meditation\":\n",
        "    print(\"How nice!\")\n",
        "  elif course==\"magic\":\n",
        "    print(\"You're not at Hogwarts\")\n",
        "  else :\n",
        "    print(\"What is this COURSE?\")\n",
        "statement(\"Maths\")"
      ]
    },
    {
      "cell_type": "markdown",
      "metadata": {
        "id": "qm8AD8R5zmTs"
      },
      "source": [
        "Given the following variables, create and print the string\n",
        "\n",
        "``quantity`` ``fruit``(s) cost(s) $``price``\n",
        "\n",
        "such that\n",
        "- there is an `\"s\"` at `\"cost\"` when there is more only one fruit,\n",
        "- there is an `\"s\"` at `\"fruit\"` when there is more that one fruit,\n",
        "- the price is displayed as ...,xxx,xxx.yy where yy corresponds rounded cents value"
      ]
    },
    {
      "cell_type": "code",
      "execution_count": null,
      "metadata": {
        "id": "5N-GC8XAzmTu"
      },
      "outputs": [],
      "source": [
        "quantity = 1\n",
        "fruit = \"avocado\"\n",
        "price = 1.8912392e4"
      ]
    },
    {
      "cell_type": "code",
      "execution_count": null,
      "metadata": {
        "colab": {
          "base_uri": "https://localhost:8080/"
        },
        "id": "RephRAbLTsk1",
        "outputId": "2e9f06c4-7a8c-4fe2-8ac9-a50ed304a2dc"
      },
      "outputs": [
        {
          "name": "stdout",
          "output_type": "stream",
          "text": [
            "1 avocado cost 18,912.39 \n"
          ]
        }
      ],
      "source": [
        "str=f\"{quantity} {fruit}{\"s\" if quantity>1 else \"\"} cost{\"s\" if quantity>1 else \"\"} {price:,.2f} \"\n",
        "print(str)"
      ]
    },
    {
      "cell_type": "markdown",
      "metadata": {
        "id": "XO3sxi10zmTw"
      },
      "source": [
        "## Functions"
      ]
    },
    {
      "cell_type": "markdown",
      "metadata": {
        "id": "AN_YrMpbzmTx"
      },
      "source": [
        "Define the function `is_unique(x)` which takes a list of integers `x` as input and returns `True` if the there is no duplicate items otherwise return `False`."
      ]
    },
    {
      "cell_type": "code",
      "execution_count": null,
      "metadata": {
        "id": "VDkGgTEHV3HZ"
      },
      "outputs": [],
      "source": [
        "def is_unique(x):\n",
        "  occurence=0\n",
        "  for a in x:\n",
        "    occurence=x.count(a)\n",
        "    if occurence>1:\n",
        "      return False\n",
        "  return True"
      ]
    },
    {
      "cell_type": "code",
      "execution_count": null,
      "metadata": {
        "colab": {
          "base_uri": "https://localhost:8080/"
        },
        "id": "_dq3XVDKWVDv",
        "outputId": "cbd049af-9408-4b3c-d63e-2293a634bc18"
      },
      "outputs": [
        {
          "data": {
            "text/plain": [
              "False"
            ]
          },
          "execution_count": 180,
          "metadata": {},
          "output_type": "execute_result"
        }
      ],
      "source": [
        "is_unique([5,5,6])"
      ]
    },
    {
      "cell_type": "code",
      "execution_count": null,
      "metadata": {
        "colab": {
          "base_uri": "https://localhost:8080/"
        },
        "id": "XiFb_9QRWYM-",
        "outputId": "c7ec6c99-26bd-4d9c-8b35-45f25899937b"
      },
      "outputs": [
        {
          "data": {
            "text/plain": [
              "True"
            ]
          },
          "execution_count": 182,
          "metadata": {},
          "output_type": "execute_result"
        }
      ],
      "source": [
        "is_unique([2,4,5])"
      ]
    },
    {
      "cell_type": "markdown",
      "metadata": {
        "id": "xp5sgOs7zmTy"
      },
      "source": [
        "Define a function `triangle_shape(height)`, that returns\n",
        "- `\"\"` if `height=0`,\n",
        "- otherwise it returns a string that forms a triangle with height prescribed by `height`.\n",
        "\n",
        "**Examples**\n",
        "\n",
        "height=1\n",
        "```\n",
        "x\n",
        "```\n",
        "\n",
        "height=2\n",
        "```\n",
        " x\n",
        "xxx\n",
        "```\n",
        "\n",
        "height=3\n",
        "```\n",
        "  x  \n",
        " xxx\n",
        "xxxxx\n",
        "```\n",
        "\n",
        "height=4\n",
        "```\n",
        "   x   \n",
        "  xxx  \n",
        " xxxxx\n",
        "xxxxxxx\n",
        "```\n",
        "\n",
        "height=5\n",
        "```\n",
        "    x    \n",
        "   xxx   \n",
        "  xxxxx  \n",
        " xxxxxxx\n",
        "xxxxxxxxx\n",
        "```\n",
        "\n",
        "height=6\n",
        "```\n",
        "     x     \n",
        "    xxx    \n",
        "   xxxxx   \n",
        "  xxxxxxx  \n",
        " xxxxxxxxx\n",
        "xxxxxxxxxxx\n",
        "```"
      ]
    },
    {
      "cell_type": "code",
      "execution_count": null,
      "metadata": {
        "id": "cgxqsVGyWu6d"
      },
      "outputs": [],
      "source": [
        "def triangle_shape(height):\n",
        "  if height==0:\n",
        "    return \"\"\n",
        "  # Si la hauteur du triangle est 0 on renvoie une string vide\n",
        "  else:\n",
        "    S=\"\"\n",
        "    L=[\" \"*(height-i) + \"x\"*(2*i+1) +\" \"*(height-i)+\"\\n\" for i in range(height)]\n",
        "    # Si on note n le numéro de la ligne pour créer le triangle, il faut pour chaque ligne le bon nombre de x (2*n+1)\n",
        "    # et le bon nombre d'espace à gauche et à droite (height-n)\n",
        "    for k in range(len(L)):\n",
        "      S+=L[k]\n",
        "    print(S)"
      ]
    },
    {
      "cell_type": "code",
      "execution_count": null,
      "metadata": {
        "colab": {
          "base_uri": "https://localhost:8080/"
        },
        "id": "58_P6jeAX0bP",
        "outputId": "7610d7bb-7390-4c61-d63e-be317ef3badc"
      },
      "outputs": [
        {
          "name": "stdout",
          "output_type": "stream",
          "text": [
            "          x          \n",
            "         xxx         \n",
            "        xxxxx        \n",
            "       xxxxxxx       \n",
            "      xxxxxxxxx      \n",
            "     xxxxxxxxxxx     \n",
            "    xxxxxxxxxxxxx    \n",
            "   xxxxxxxxxxxxxxx   \n",
            "  xxxxxxxxxxxxxxxxx  \n",
            " xxxxxxxxxxxxxxxxxxx \n",
            "\n"
          ]
        }
      ],
      "source": [
        "triangle_shape(10)"
      ]
    },
    {
      "cell_type": "code",
      "execution_count": null,
      "metadata": {
        "id": "oAfOChJPnSN6"
      },
      "outputs": [],
      "source": []
    }
  ],
  "metadata": {
    "colab": {
      "collapsed_sections": [
        "bSnUNXxCzmSu",
        "OjTIG-BzzmS3",
        "TXWxBTuPzmS-",
        "jy5z8ijdzmTL"
      ],
      "provenance": []
    },
    "kernelspec": {
      "display_name": "lab2",
      "language": "python",
      "name": "python3"
    },
    "language_info": {
      "codemirror_mode": {
        "name": "ipython",
        "version": 3
      },
      "file_extension": ".py",
      "mimetype": "text/x-python",
      "name": "python",
      "nbconvert_exporter": "python",
      "pygments_lexer": "ipython3",
      "version": "3.8.20"
    },
    "orig_nbformat": 4
  },
  "nbformat": 4,
  "nbformat_minor": 0
}
